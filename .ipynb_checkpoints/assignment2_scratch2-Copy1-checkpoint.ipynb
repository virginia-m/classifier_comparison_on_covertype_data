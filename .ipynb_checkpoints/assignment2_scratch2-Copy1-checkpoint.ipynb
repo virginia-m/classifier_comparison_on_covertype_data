{
 "cells": [
  {
   "cell_type": "code",
   "execution_count": 2,
   "metadata": {
    "collapsed": false
   },
   "outputs": [
    {
     "data": {
      "text/plain": [
       "<module 'codes' from '/Users/pmccauley/analysis/comp5318/comp5318_assignment_2/codes/__init__.py'>"
      ]
     },
     "execution_count": 2,
     "metadata": {},
     "output_type": "execute_result"
    }
   ],
   "source": [
    "import warnings\n",
    "warnings.filterwarnings('always')\n",
    "\n",
    "import pandas as pd\n",
    "import numpy as np\n",
    "\n",
    "from sklearn.datasets import fetch_covtype\n",
    "from sklearn import naive_bayes as nb\n",
    "from sklearn import neural_network as nn\n",
    "\n",
    "from sklearn.model_selection import StratifiedShuffleSplit\n",
    "from sklearn.model_selection import train_test_split\n",
    "\n",
    "import time\n",
    "\n",
    "#from codes import cross_validate_classifier, \\\n",
    "#                  format_classifier_performance, \\\n",
    "#                  plot_confusion_matrix, metrics_wrapper\n",
    "\n",
    "import codes as c\n",
    "\n",
    "import importlib\n",
    "importlib.reload(c)"
   ]
  },
  {
   "cell_type": "code",
   "execution_count": null,
   "metadata": {
    "collapsed": true
   },
   "outputs": [],
   "source": [
    "def class_count_split(X, y, count=250):\n",
    "    '''\n",
    "    Parameters:\n",
    "        X = data\n",
    "        y = labels\n",
    "        \n",
    "        count: number of each class to keep in training set, default 250, only \n",
    "                used if STYLE='equal'\n",
    "                    \n",
    "    Returns:\n",
    "        X_train, y_train, X_test, y_test\n",
    "    '''   \n",
    "    \n",
    "    #unique classes\n",
    "    classes = np.unique(y)\n",
    "    \n",
    "    #empty array to store random pick indices \n",
    "    picks = np.empty([count, np.shape(classes)[0]])\n",
    "\n",
    "    #loop through each class and randomly select <count> representatives\n",
    "    for i, this_class in enumerate(classes):\n",
    "        want = np.where(y == this_class)[0]\n",
    "        picks[:,i] = np.random.choice(want,size=count, replace=False)\n",
    "\n",
    "    #sort pick indices by the order they appear in the original table\n",
    "    picks = np.sort(picks.flatten()).astype(int)\n",
    "    \n",
    "    X_test = X[picks,:]\n",
    "    y_test = y[picks]\n",
    "    \n",
    "    X_train = np.delete(X,picks,axis=0)\n",
    "    y_train = np.delete(y,picks)  \n",
    "        \n",
    "    return X_train, y_train, X_test, y_test"
   ]
  },
  {
   "cell_type": "code",
   "execution_count": null,
   "metadata": {
    "collapsed": false
   },
   "outputs": [],
   "source": [
    "def split_dataset(X, y, style='prop', count=250, test_size=0.1):\n",
    "    '''\n",
    "    Parameters:\n",
    "        X = data\n",
    "        y = labels\n",
    "        \n",
    "        style: 'prop' = classes proportionally represented in test dataset based\n",
    "                        on proportions in training dataseg\n",
    "                'equal' = equal number of class counts in training set\n",
    "                'random' = random test/training partition\n",
    "        \n",
    "        count: number of each class to keep in training set, default 250, only \n",
    "                used if STYLE='equal'\n",
    "        \n",
    "        test_size: fraction of dataset used for test set, default 0.1, only used \n",
    "                    if STYLE='prop' or 'random'\n",
    "                    \n",
    "    Returns:\n",
    "        X_train, y_train, X_test, y_test\n",
    "    '''\n",
    "    \n",
    "    if style=='equal':\n",
    "        X_train, y_train, X_test, y_test = class_count_split(X,y,count=count)\n",
    "        \n",
    "    if style=='prop':\n",
    "        sss = StratifiedShuffleSplit(n_splits=1, test_size=test_size)\n",
    "        for train_index, test_index in sss.split(X, y):\n",
    "            X_train, X_test = X[train_index], X[test_index]\n",
    "            y_train, y_test = y[train_index], y[test_index]\n",
    "            \n",
    "    if style=='random':\n",
    "        X_train, X_test, y_train, y_test = train_test_split(X, y, test_size=test_size)\n",
    "            \n",
    "    return X_train, y_train, X_test, y_test"
   ]
  },
  {
   "cell_type": "code",
   "execution_count": 3,
   "metadata": {
    "collapsed": true
   },
   "outputs": [],
   "source": [
    "def read_covtype(crop=False, regularize=True):\n",
    "    data = fetch_covtype()\n",
    "    X = data['data']\n",
    "    y = data['target']\n",
    "    \n",
    "    if crop==True:\n",
    "        X = X[:,0:10]\n",
    "    \n",
    "    cnames = ['Spruce/Fir','Lodgepole Pine','Ponderosa Pine','Cottonwood/Willow','Aspen','Douglas-fir','Krummholz']\n",
    "    cnums = np.arange(1,8)\n",
    "    \n",
    "    from sklearn.preprocessing import StandardScaler  \n",
    "    scaler = StandardScaler()  \n",
    "    # Don't cheat - fit only on training data\n",
    "    scaler.fit(X)  \n",
    "    X = scaler.transform(X)  \n",
    "    # apply same transformation to test data\n",
    "    #X_test = scaler.transform(X_test)  \n",
    "    \n",
    "    return X, y, cnames, cnums\n",
    "    "
   ]
  },
  {
   "cell_type": "code",
   "execution_count": 4,
   "metadata": {
    "collapsed": false
   },
   "outputs": [],
   "source": [
    "X, y, cnames, cnums = read_covtype(crop=False)"
   ]
  },
  {
   "cell_type": "code",
   "execution_count": 9,
   "metadata": {
    "collapsed": false
   },
   "outputs": [
    {
     "name": "stdout",
     "output_type": "stream",
     "text": [
      "511.32572789501137 440.0791595422305\n"
     ]
    }
   ],
   "source": [
    "X_train, y_train, X_test, y_test = c.split_dataset(X,y,regularize=True)\n",
    "print(np.max(X_train), np.max(X))"
   ]
  },
  {
   "cell_type": "code",
   "execution_count": null,
   "metadata": {
    "collapsed": false
   },
   "outputs": [],
   "source": [
    "_classifier = nb.GaussianNB\n",
    "confs = c.cross_validate_classifier(_classifier, X, y-1, kfold=1, style='equal')"
   ]
  },
  {
   "cell_type": "code",
   "execution_count": null,
   "metadata": {
    "collapsed": false
   },
   "outputs": [],
   "source": [
    "conf = np.mean(confs, axis=0)\n",
    "print(conf.shape)\n",
    "df_total, df_class, df_conf = c.metrics_wrapper(conf, cnames, do_display=True)\n",
    "print(df_total['Overall Accuracy'][0])"
   ]
  },
  {
   "cell_type": "code",
   "execution_count": null,
   "metadata": {
    "collapsed": false
   },
   "outputs": [],
   "source": [
    "X_train, y_train, X_test, y_test = split_dataset(X,y, style='prop')\n",
    "print(X_train.shape, y_train.shape, X_test.shape, y_test.shape)"
   ]
  },
  {
   "cell_type": "code",
   "execution_count": null,
   "metadata": {
    "collapsed": false
   },
   "outputs": [],
   "source": [
    "_classifier = nb.GaussianNB()\n",
    "_classifier = _classifier.fit(X_train, y_train)\n",
    "y_pred = _classifier.predict(X_test)"
   ]
  },
  {
   "cell_type": "code",
   "execution_count": null,
   "metadata": {
    "collapsed": false
   },
   "outputs": [],
   "source": [
    "conf = c.construct_confusion_matrix(y_test-1, y_pred-1, dim=7)\n",
    "df_total, df_class, df_conf = c.metrics_wrapper(conf, cnames, do_display=True)"
   ]
  },
  {
   "cell_type": "code",
   "execution_count": 10,
   "metadata": {
    "collapsed": true
   },
   "outputs": [],
   "source": [
    "#hidden layer number = mean([features,columns])\n",
    "_classifier = nn.MLPClassifier(hidden_layer_sizes=[100])\n",
    "_classifier = _classifier.fit(X_train, y_train)\n",
    "y_pred = _classifier.predict(X_test)"
   ]
  },
  {
   "cell_type": "code",
   "execution_count": null,
   "metadata": {
    "collapsed": false
   },
   "outputs": [],
   "source": [
    "\n",
    "#layer_sizes = np.arange(2,202,2)\n",
    "layer_sizes = np.arange(2,6,2)\n",
    "runtimes = np.zeros(layer_sizes.shape[0])\n",
    "\n",
    "print(layer_sizes,runtimes)\n",
    "\n",
    "for i, layer_size in enumerate(layer_sizes):\n",
    "    start = time.time()\n",
    "    _classifier = nn.MLPClassifier(hidden_layer_sizes=layer_size)\n",
    "    _classifier = _classifier.fit(X_train, y_train)\n",
    "    y_pred = _classifier.predict(X_test)\n",
    "    runtimes[i] = time.time()-start\n",
    "    conf = c.construct_confusion_matrix(y_test-1, y_pred-1, dim=7)\n",
    "    df_total, df_class, df_conf = c.metrics_wrapper(conf, cnames, do_display=False)\n",
    "    df_tots = \n",
    "    \n",
    "\n",
    "print(runtimes)"
   ]
  },
  {
   "cell_type": "code",
   "execution_count": 11,
   "metadata": {
    "collapsed": false
   },
   "outputs": [
    {
     "name": "stdout",
     "output_type": "stream",
     "text": [
      "Average/overall metrics:\n"
     ]
    },
    {
     "data": {
      "text/html": [
       "<div>\n",
       "<style scoped>\n",
       "    .dataframe tbody tr th:only-of-type {\n",
       "        vertical-align: middle;\n",
       "    }\n",
       "\n",
       "    .dataframe tbody tr th {\n",
       "        vertical-align: top;\n",
       "    }\n",
       "\n",
       "    .dataframe thead th {\n",
       "        text-align: right;\n",
       "    }\n",
       "</style>\n",
       "<table border=\"1\" class=\"dataframe\">\n",
       "  <thead>\n",
       "    <tr style=\"text-align: right;\">\n",
       "      <th></th>\n",
       "      <th>Average F-Meas</th>\n",
       "      <th>Average Precision</th>\n",
       "      <th>Average Recall</th>\n",
       "      <th>Overall Accuracy</th>\n",
       "    </tr>\n",
       "  </thead>\n",
       "  <tbody>\n",
       "    <tr>\n",
       "      <th>Class-Averaged or Overall:</th>\n",
       "      <td>0.78</td>\n",
       "      <td>0.83</td>\n",
       "      <td>0.75</td>\n",
       "      <td>0.86</td>\n",
       "    </tr>\n",
       "  </tbody>\n",
       "</table>\n",
       "</div>"
      ],
      "text/plain": [
       "                            Average F-Meas  Average Precision  Average Recall  \\\n",
       "Class-Averaged or Overall:            0.78               0.83            0.75   \n",
       "\n",
       "                            Overall Accuracy  \n",
       "Class-Averaged or Overall:              0.86  "
      ]
     },
     "metadata": {},
     "output_type": "display_data"
    },
    {
     "name": "stdout",
     "output_type": "stream",
     "text": [
      "Class-specific metrics:\n"
     ]
    },
    {
     "data": {
      "text/html": [
       "<style  type=\"text/css\" >\n",
       "    #T_25d0c210_624a_11e8_9134_acbc32c9c85frow0_col1 {\n",
       "            color:  blue;\n",
       "        }    #T_25d0c210_624a_11e8_9134_acbc32c9c85frow0_col2 {\n",
       "            color:  blue;\n",
       "        }    #T_25d0c210_624a_11e8_9134_acbc32c9c85frow0_col3 {\n",
       "            color:  blue;\n",
       "        }    #T_25d0c210_624a_11e8_9134_acbc32c9c85frow1_col1 {\n",
       "            color:  blue;\n",
       "        }    #T_25d0c210_624a_11e8_9134_acbc32c9c85frow1_col2 {\n",
       "            color:  blue;\n",
       "        }    #T_25d0c210_624a_11e8_9134_acbc32c9c85frow1_col3 {\n",
       "            color:  blue;\n",
       "        }    #T_25d0c210_624a_11e8_9134_acbc32c9c85frow2_col1 {\n",
       "            color:  blue;\n",
       "        }    #T_25d0c210_624a_11e8_9134_acbc32c9c85frow2_col2 {\n",
       "            color:  blue;\n",
       "        }    #T_25d0c210_624a_11e8_9134_acbc32c9c85frow2_col3 {\n",
       "            color:  blue;\n",
       "        }    #T_25d0c210_624a_11e8_9134_acbc32c9c85frow3_col1 {\n",
       "            color:  blue;\n",
       "        }    #T_25d0c210_624a_11e8_9134_acbc32c9c85frow3_col2 {\n",
       "            color:  blue;\n",
       "        }    #T_25d0c210_624a_11e8_9134_acbc32c9c85frow3_col3 {\n",
       "            color:  black;\n",
       "        }    #T_25d0c210_624a_11e8_9134_acbc32c9c85frow4_col1 {\n",
       "            color:  black;\n",
       "        }    #T_25d0c210_624a_11e8_9134_acbc32c9c85frow4_col2 {\n",
       "            color:  black;\n",
       "        }    #T_25d0c210_624a_11e8_9134_acbc32c9c85frow4_col3 {\n",
       "            color:  black;\n",
       "        }    #T_25d0c210_624a_11e8_9134_acbc32c9c85frow5_col1 {\n",
       "            color:  black;\n",
       "        }    #T_25d0c210_624a_11e8_9134_acbc32c9c85frow5_col2 {\n",
       "            color:  blue;\n",
       "        }    #T_25d0c210_624a_11e8_9134_acbc32c9c85frow5_col3 {\n",
       "            color:  black;\n",
       "        }    #T_25d0c210_624a_11e8_9134_acbc32c9c85frow6_col1 {\n",
       "            color:  blue;\n",
       "        }    #T_25d0c210_624a_11e8_9134_acbc32c9c85frow6_col2 {\n",
       "            color:  blue;\n",
       "        }    #T_25d0c210_624a_11e8_9134_acbc32c9c85frow6_col3 {\n",
       "            color:  blue;\n",
       "        }</style>  \n",
       "<table id=\"T_25d0c210_624a_11e8_9134_acbc32c9c85f\" > \n",
       "<thead>    <tr> \n",
       "        <th class=\"blank level0\" ></th> \n",
       "        <th class=\"col_heading level0 col0\" >Class</th> \n",
       "        <th class=\"col_heading level0 col1\" >F-Meas</th> \n",
       "        <th class=\"col_heading level0 col2\" >Precision</th> \n",
       "        <th class=\"col_heading level0 col3\" >Recall</th> \n",
       "    </tr>    <tr> \n",
       "        <th class=\"index_name level0\" >Confusion Matrix Index</th> \n",
       "        <th class=\"blank\" ></th> \n",
       "        <th class=\"blank\" ></th> \n",
       "        <th class=\"blank\" ></th> \n",
       "        <th class=\"blank\" ></th> \n",
       "    </tr></thead> \n",
       "<tbody>    <tr> \n",
       "        <th id=\"T_25d0c210_624a_11e8_9134_acbc32c9c85flevel0_row0\" class=\"row_heading level0 row0\" >0</th> \n",
       "        <td id=\"T_25d0c210_624a_11e8_9134_acbc32c9c85frow0_col0\" class=\"data row0 col0\" >Spruce/Fir</td> \n",
       "        <td id=\"T_25d0c210_624a_11e8_9134_acbc32c9c85frow0_col1\" class=\"data row0 col1\" >0.86</td> \n",
       "        <td id=\"T_25d0c210_624a_11e8_9134_acbc32c9c85frow0_col2\" class=\"data row0 col2\" >0.89</td> \n",
       "        <td id=\"T_25d0c210_624a_11e8_9134_acbc32c9c85frow0_col3\" class=\"data row0 col3\" >0.83</td> \n",
       "    </tr>    <tr> \n",
       "        <th id=\"T_25d0c210_624a_11e8_9134_acbc32c9c85flevel0_row1\" class=\"row_heading level0 row1\" >1</th> \n",
       "        <td id=\"T_25d0c210_624a_11e8_9134_acbc32c9c85frow1_col0\" class=\"data row1 col0\" >Lodgepole Pine</td> \n",
       "        <td id=\"T_25d0c210_624a_11e8_9134_acbc32c9c85frow1_col1\" class=\"data row1 col1\" >0.89</td> \n",
       "        <td id=\"T_25d0c210_624a_11e8_9134_acbc32c9c85frow1_col2\" class=\"data row1 col2\" >0.86</td> \n",
       "        <td id=\"T_25d0c210_624a_11e8_9134_acbc32c9c85frow1_col3\" class=\"data row1 col3\" >0.92</td> \n",
       "    </tr>    <tr> \n",
       "        <th id=\"T_25d0c210_624a_11e8_9134_acbc32c9c85flevel0_row2\" class=\"row_heading level0 row2\" >2</th> \n",
       "        <td id=\"T_25d0c210_624a_11e8_9134_acbc32c9c85frow2_col0\" class=\"data row2 col0\" >Ponderosa Pine</td> \n",
       "        <td id=\"T_25d0c210_624a_11e8_9134_acbc32c9c85frow2_col1\" class=\"data row2 col1\" >0.85</td> \n",
       "        <td id=\"T_25d0c210_624a_11e8_9134_acbc32c9c85frow2_col2\" class=\"data row2 col2\" >0.82</td> \n",
       "        <td id=\"T_25d0c210_624a_11e8_9134_acbc32c9c85frow2_col3\" class=\"data row2 col3\" >0.87</td> \n",
       "    </tr>    <tr> \n",
       "        <th id=\"T_25d0c210_624a_11e8_9134_acbc32c9c85flevel0_row3\" class=\"row_heading level0 row3\" >3</th> \n",
       "        <td id=\"T_25d0c210_624a_11e8_9134_acbc32c9c85frow3_col0\" class=\"data row3 col0\" >Cottonwood/Willow</td> \n",
       "        <td id=\"T_25d0c210_624a_11e8_9134_acbc32c9c85frow3_col1\" class=\"data row3 col1\" >0.74</td> \n",
       "        <td id=\"T_25d0c210_624a_11e8_9134_acbc32c9c85frow3_col2\" class=\"data row3 col2\" >0.88</td> \n",
       "        <td id=\"T_25d0c210_624a_11e8_9134_acbc32c9c85frow3_col3\" class=\"data row3 col3\" >0.65</td> \n",
       "    </tr>    <tr> \n",
       "        <th id=\"T_25d0c210_624a_11e8_9134_acbc32c9c85flevel0_row4\" class=\"row_heading level0 row4\" >4</th> \n",
       "        <td id=\"T_25d0c210_624a_11e8_9134_acbc32c9c85frow4_col0\" class=\"data row4 col0\" >Aspen</td> \n",
       "        <td id=\"T_25d0c210_624a_11e8_9134_acbc32c9c85frow4_col1\" class=\"data row4 col1\" >0.58</td> \n",
       "        <td id=\"T_25d0c210_624a_11e8_9134_acbc32c9c85frow4_col2\" class=\"data row4 col2\" >0.69</td> \n",
       "        <td id=\"T_25d0c210_624a_11e8_9134_acbc32c9c85frow4_col3\" class=\"data row4 col3\" >0.5</td> \n",
       "    </tr>    <tr> \n",
       "        <th id=\"T_25d0c210_624a_11e8_9134_acbc32c9c85flevel0_row5\" class=\"row_heading level0 row5\" >5</th> \n",
       "        <td id=\"T_25d0c210_624a_11e8_9134_acbc32c9c85frow5_col0\" class=\"data row5 col0\" >Douglas-fir</td> \n",
       "        <td id=\"T_25d0c210_624a_11e8_9134_acbc32c9c85frow5_col1\" class=\"data row5 col1\" >0.69</td> \n",
       "        <td id=\"T_25d0c210_624a_11e8_9134_acbc32c9c85frow5_col2\" class=\"data row5 col2\" >0.76</td> \n",
       "        <td id=\"T_25d0c210_624a_11e8_9134_acbc32c9c85frow5_col3\" class=\"data row5 col3\" >0.63</td> \n",
       "    </tr>    <tr> \n",
       "        <th id=\"T_25d0c210_624a_11e8_9134_acbc32c9c85flevel0_row6\" class=\"row_heading level0 row6\" >6</th> \n",
       "        <td id=\"T_25d0c210_624a_11e8_9134_acbc32c9c85frow6_col0\" class=\"data row6 col0\" >Krummholz</td> \n",
       "        <td id=\"T_25d0c210_624a_11e8_9134_acbc32c9c85frow6_col1\" class=\"data row6 col1\" >0.88</td> \n",
       "        <td id=\"T_25d0c210_624a_11e8_9134_acbc32c9c85frow6_col2\" class=\"data row6 col2\" >0.89</td> \n",
       "        <td id=\"T_25d0c210_624a_11e8_9134_acbc32c9c85frow6_col3\" class=\"data row6 col3\" >0.86</td> \n",
       "    </tr></tbody> \n",
       "</table> "
      ],
      "text/plain": [
       "<pandas.io.formats.style.Styler at 0x106716f28>"
      ]
     },
     "metadata": {},
     "output_type": "display_data"
    },
    {
     "name": "stdout",
     "output_type": "stream",
     "text": [
      "Confusion matrix (yellow = col max; red = row max):\n"
     ]
    },
    {
     "data": {
      "text/html": [
       "<style  type=\"text/css\" >\n",
       "    #T_25d8b9d4_624a_11e8_b5b8_acbc32c9c85frow0_col0 {\n",
       "            background-color:  yellow;\n",
       "            color:  red;\n",
       "        }    #T_25d8b9d4_624a_11e8_b5b8_acbc32c9c85frow1_col1 {\n",
       "            background-color:  yellow;\n",
       "            color:  red;\n",
       "        }    #T_25d8b9d4_624a_11e8_b5b8_acbc32c9c85frow2_col2 {\n",
       "            background-color:  yellow;\n",
       "            color:  red;\n",
       "        }    #T_25d8b9d4_624a_11e8_b5b8_acbc32c9c85frow3_col3 {\n",
       "            background-color:  yellow;\n",
       "            color:  red;\n",
       "        }    #T_25d8b9d4_624a_11e8_b5b8_acbc32c9c85frow4_col4 {\n",
       "            background-color:  yellow;\n",
       "            color:  red;\n",
       "        }    #T_25d8b9d4_624a_11e8_b5b8_acbc32c9c85frow5_col5 {\n",
       "            background-color:  yellow;\n",
       "            color:  red;\n",
       "        }    #T_25d8b9d4_624a_11e8_b5b8_acbc32c9c85frow6_col6 {\n",
       "            background-color:  yellow;\n",
       "            color:  red;\n",
       "        }</style>  \n",
       "<table id=\"T_25d8b9d4_624a_11e8_b5b8_acbc32c9c85f\" > \n",
       "<thead>    <tr> \n",
       "        <th class=\"index_name level0\" >Predicted</th> \n",
       "        <th class=\"col_heading level0 col0\" >0</th> \n",
       "        <th class=\"col_heading level0 col1\" >1</th> \n",
       "        <th class=\"col_heading level0 col2\" >2</th> \n",
       "        <th class=\"col_heading level0 col3\" >3</th> \n",
       "        <th class=\"col_heading level0 col4\" >4</th> \n",
       "        <th class=\"col_heading level0 col5\" >5</th> \n",
       "        <th class=\"col_heading level0 col6\" >6</th> \n",
       "    </tr>    <tr> \n",
       "        <th class=\"index_name level0\" >Actual</th> \n",
       "        <th class=\"blank\" ></th> \n",
       "        <th class=\"blank\" ></th> \n",
       "        <th class=\"blank\" ></th> \n",
       "        <th class=\"blank\" ></th> \n",
       "        <th class=\"blank\" ></th> \n",
       "        <th class=\"blank\" ></th> \n",
       "        <th class=\"blank\" ></th> \n",
       "    </tr></thead> \n",
       "<tbody>    <tr> \n",
       "        <th id=\"T_25d8b9d4_624a_11e8_b5b8_acbc32c9c85flevel0_row0\" class=\"row_heading level0 row0\" >0</th> \n",
       "        <td id=\"T_25d8b9d4_624a_11e8_b5b8_acbc32c9c85frow0_col0\" class=\"data row0 col0\" >17562</td> \n",
       "        <td id=\"T_25d8b9d4_624a_11e8_b5b8_acbc32c9c85frow0_col1\" class=\"data row0 col1\" >3423</td> \n",
       "        <td id=\"T_25d8b9d4_624a_11e8_b5b8_acbc32c9c85frow0_col2\" class=\"data row0 col2\" >2</td> \n",
       "        <td id=\"T_25d8b9d4_624a_11e8_b5b8_acbc32c9c85frow0_col3\" class=\"data row0 col3\" >0</td> \n",
       "        <td id=\"T_25d8b9d4_624a_11e8_b5b8_acbc32c9c85frow0_col4\" class=\"data row0 col4\" >14</td> \n",
       "        <td id=\"T_25d8b9d4_624a_11e8_b5b8_acbc32c9c85frow0_col5\" class=\"data row0 col5\" >6</td> \n",
       "        <td id=\"T_25d8b9d4_624a_11e8_b5b8_acbc32c9c85frow0_col6\" class=\"data row0 col6\" >177</td> \n",
       "    </tr>    <tr> \n",
       "        <th id=\"T_25d8b9d4_624a_11e8_b5b8_acbc32c9c85flevel0_row1\" class=\"row_heading level0 row1\" >1</th> \n",
       "        <td id=\"T_25d8b9d4_624a_11e8_b5b8_acbc32c9c85frow1_col0\" class=\"data row1 col0\" >1898</td> \n",
       "        <td id=\"T_25d8b9d4_624a_11e8_b5b8_acbc32c9c85frow1_col1\" class=\"data row1 col1\" >26021</td> \n",
       "        <td id=\"T_25d8b9d4_624a_11e8_b5b8_acbc32c9c85frow1_col2\" class=\"data row1 col2\" >112</td> \n",
       "        <td id=\"T_25d8b9d4_624a_11e8_b5b8_acbc32c9c85frow1_col3\" class=\"data row1 col3\" >1</td> \n",
       "        <td id=\"T_25d8b9d4_624a_11e8_b5b8_acbc32c9c85frow1_col4\" class=\"data row1 col4\" >143</td> \n",
       "        <td id=\"T_25d8b9d4_624a_11e8_b5b8_acbc32c9c85frow1_col5\" class=\"data row1 col5\" >122</td> \n",
       "        <td id=\"T_25d8b9d4_624a_11e8_b5b8_acbc32c9c85frow1_col6\" class=\"data row1 col6\" >34</td> \n",
       "    </tr>    <tr> \n",
       "        <th id=\"T_25d8b9d4_624a_11e8_b5b8_acbc32c9c85flevel0_row2\" class=\"row_heading level0 row2\" >2</th> \n",
       "        <td id=\"T_25d8b9d4_624a_11e8_b5b8_acbc32c9c85frow2_col0\" class=\"data row2 col0\" >1</td> \n",
       "        <td id=\"T_25d8b9d4_624a_11e8_b5b8_acbc32c9c85frow2_col1\" class=\"data row2 col1\" >209</td> \n",
       "        <td id=\"T_25d8b9d4_624a_11e8_b5b8_acbc32c9c85frow2_col2\" class=\"data row2 col2\" >3113</td> \n",
       "        <td id=\"T_25d8b9d4_624a_11e8_b5b8_acbc32c9c85frow2_col3\" class=\"data row2 col3\" >16</td> \n",
       "        <td id=\"T_25d8b9d4_624a_11e8_b5b8_acbc32c9c85frow2_col4\" class=\"data row2 col4\" >40</td> \n",
       "        <td id=\"T_25d8b9d4_624a_11e8_b5b8_acbc32c9c85frow2_col5\" class=\"data row2 col5\" >196</td> \n",
       "        <td id=\"T_25d8b9d4_624a_11e8_b5b8_acbc32c9c85frow2_col6\" class=\"data row2 col6\" >0</td> \n",
       "    </tr>    <tr> \n",
       "        <th id=\"T_25d8b9d4_624a_11e8_b5b8_acbc32c9c85flevel0_row3\" class=\"row_heading level0 row3\" >3</th> \n",
       "        <td id=\"T_25d8b9d4_624a_11e8_b5b8_acbc32c9c85frow3_col0\" class=\"data row3 col0\" >0</td> \n",
       "        <td id=\"T_25d8b9d4_624a_11e8_b5b8_acbc32c9c85frow3_col1\" class=\"data row3 col1\" >0</td> \n",
       "        <td id=\"T_25d8b9d4_624a_11e8_b5b8_acbc32c9c85frow3_col2\" class=\"data row3 col2\" >77</td> \n",
       "        <td id=\"T_25d8b9d4_624a_11e8_b5b8_acbc32c9c85frow3_col3\" class=\"data row3 col3\" >178</td> \n",
       "        <td id=\"T_25d8b9d4_624a_11e8_b5b8_acbc32c9c85frow3_col4\" class=\"data row3 col4\" >0</td> \n",
       "        <td id=\"T_25d8b9d4_624a_11e8_b5b8_acbc32c9c85frow3_col5\" class=\"data row3 col5\" >20</td> \n",
       "        <td id=\"T_25d8b9d4_624a_11e8_b5b8_acbc32c9c85frow3_col6\" class=\"data row3 col6\" >0</td> \n",
       "    </tr>    <tr> \n",
       "        <th id=\"T_25d8b9d4_624a_11e8_b5b8_acbc32c9c85flevel0_row4\" class=\"row_heading level0 row4\" >4</th> \n",
       "        <td id=\"T_25d8b9d4_624a_11e8_b5b8_acbc32c9c85frow4_col0\" class=\"data row4 col0\" >27</td> \n",
       "        <td id=\"T_25d8b9d4_624a_11e8_b5b8_acbc32c9c85frow4_col1\" class=\"data row4 col1\" >427</td> \n",
       "        <td id=\"T_25d8b9d4_624a_11e8_b5b8_acbc32c9c85frow4_col2\" class=\"data row4 col2\" >21</td> \n",
       "        <td id=\"T_25d8b9d4_624a_11e8_b5b8_acbc32c9c85frow4_col3\" class=\"data row4 col3\" >0</td> \n",
       "        <td id=\"T_25d8b9d4_624a_11e8_b5b8_acbc32c9c85frow4_col4\" class=\"data row4 col4\" >472</td> \n",
       "        <td id=\"T_25d8b9d4_624a_11e8_b5b8_acbc32c9c85frow4_col5\" class=\"data row4 col5\" >2</td> \n",
       "        <td id=\"T_25d8b9d4_624a_11e8_b5b8_acbc32c9c85frow4_col6\" class=\"data row4 col6\" >0</td> \n",
       "    </tr>    <tr> \n",
       "        <th id=\"T_25d8b9d4_624a_11e8_b5b8_acbc32c9c85flevel0_row5\" class=\"row_heading level0 row5\" >5</th> \n",
       "        <td id=\"T_25d8b9d4_624a_11e8_b5b8_acbc32c9c85frow5_col0\" class=\"data row5 col0\" >8</td> \n",
       "        <td id=\"T_25d8b9d4_624a_11e8_b5b8_acbc32c9c85frow5_col1\" class=\"data row5 col1\" >159</td> \n",
       "        <td id=\"T_25d8b9d4_624a_11e8_b5b8_acbc32c9c85frow5_col2\" class=\"data row5 col2\" >450</td> \n",
       "        <td id=\"T_25d8b9d4_624a_11e8_b5b8_acbc32c9c85frow5_col3\" class=\"data row5 col3\" >8</td> \n",
       "        <td id=\"T_25d8b9d4_624a_11e8_b5b8_acbc32c9c85frow5_col4\" class=\"data row5 col4\" >12</td> \n",
       "        <td id=\"T_25d8b9d4_624a_11e8_b5b8_acbc32c9c85frow5_col5\" class=\"data row5 col5\" >1100</td> \n",
       "        <td id=\"T_25d8b9d4_624a_11e8_b5b8_acbc32c9c85frow5_col6\" class=\"data row5 col6\" >0</td> \n",
       "    </tr>    <tr> \n",
       "        <th id=\"T_25d8b9d4_624a_11e8_b5b8_acbc32c9c85flevel0_row6\" class=\"row_heading level0 row6\" >6</th> \n",
       "        <td id=\"T_25d8b9d4_624a_11e8_b5b8_acbc32c9c85frow6_col0\" class=\"data row6 col0\" >258</td> \n",
       "        <td id=\"T_25d8b9d4_624a_11e8_b5b8_acbc32c9c85frow6_col1\" class=\"data row6 col1\" >21</td> \n",
       "        <td id=\"T_25d8b9d4_624a_11e8_b5b8_acbc32c9c85frow6_col2\" class=\"data row6 col2\" >0</td> \n",
       "        <td id=\"T_25d8b9d4_624a_11e8_b5b8_acbc32c9c85frow6_col3\" class=\"data row6 col3\" >0</td> \n",
       "        <td id=\"T_25d8b9d4_624a_11e8_b5b8_acbc32c9c85frow6_col4\" class=\"data row6 col4\" >0</td> \n",
       "        <td id=\"T_25d8b9d4_624a_11e8_b5b8_acbc32c9c85frow6_col5\" class=\"data row6 col5\" >0</td> \n",
       "        <td id=\"T_25d8b9d4_624a_11e8_b5b8_acbc32c9c85frow6_col6\" class=\"data row6 col6\" >1772</td> \n",
       "    </tr></tbody> \n",
       "</table> "
      ],
      "text/plain": [
       "<pandas.io.formats.style.Styler at 0x106272b38>"
      ]
     },
     "metadata": {},
     "output_type": "display_data"
    }
   ],
   "source": [
    "conf = c.construct_confusion_matrix(y_test-1, y_pred-1, dim=7)\n",
    "df_total, df_class, df_conf = c.metrics_wrapper(conf, cnames, do_display=True)"
   ]
  },
  {
   "cell_type": "code",
   "execution_count": null,
   "metadata": {
    "collapsed": false
   },
   "outputs": [],
   "source": [
    "blah = pd.concat([df_conf,df_conf], axis=1)\n",
    "print(blah.shape, df_conf.shape)"
   ]
  },
  {
   "cell_type": "code",
   "execution_count": null,
   "metadata": {
    "collapsed": false
   },
   "outputs": [],
   "source": [
    "conf = c.construct_confusion_matrix(y_test-1, y_pred-1, dim=7)\n",
    "df_total, df_class, df_conf = c.metrics_wrapper(conf, cnames, do_display=True)"
   ]
  }
 ],
 "metadata": {
  "kernelspec": {
   "display_name": "Python 3",
   "language": "python",
   "name": "python3"
  },
  "language_info": {
   "codemirror_mode": {
    "name": "ipython",
    "version": 3
   },
   "file_extension": ".py",
   "mimetype": "text/x-python",
   "name": "python",
   "nbconvert_exporter": "python",
   "pygments_lexer": "ipython3",
   "version": "3.5.4"
  }
 },
 "nbformat": 4,
 "nbformat_minor": 0
}
