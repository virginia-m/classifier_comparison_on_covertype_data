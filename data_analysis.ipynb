{
 "cells": [
  {
   "cell_type": "markdown",
   "metadata": {},
   "source": [
    "# Preliminary data analysis and pre-processing"
   ]
  },
  {
   "cell_type": "code",
   "execution_count": 2,
   "metadata": {
    "collapsed": true
   },
   "outputs": [],
   "source": [
    "from __future__ import division, print_function\n",
    "from os.path import join\n",
    "import time\n",
    "\n",
    "import numpy as np\n",
    "import matplotlib.pyplot as plt\n",
    "from matplotlib.gridspec import GridSpec\n",
    "import pandas as pd\n",
    "from sklearn.ensemble import RandomForestClassifier\n",
    "\n",
    "from codes import cross_validate_classifier, \\\n",
    "                  format_classifier_performance, \\\n",
    "                  plot_confusion_matrix, metrics_wrapper"
   ]
  },
  {
   "cell_type": "markdown",
   "metadata": {},
   "source": [
    "Import the data and specify the column names manually."
   ]
  },
  {
   "cell_type": "code",
   "execution_count": 3,
   "metadata": {
    "collapsed": true
   },
   "outputs": [],
   "source": [
    "column_names = (\n",
    "    [\n",
    "    'Elevation',\n",
    "    'Aspect_angle',\n",
    "    'Slope',\n",
    "    'Horiz_dist_to_nearest_water',\n",
    "    'Vert_dist_to_nearest_water',\n",
    "    'Horiz_dist_to_nearest_road',\n",
    "    'Incident_sunlight_at_9am',\n",
    "    'Incident_sunlight_at_12pm',\n",
    "    'Incident_sunlight_at_3pm',\n",
    "    'Horiz_dist_to_fire_ignition_point'    \n",
    "    ]\n",
    "    + ['Wilderness_area_{}'.format(i) for i in range(4)]\n",
    "    + ['Soil_type_{}'.format(i) for i in range(40)]\n",
    "    + ['Cover_type']\n",
    ")\n",
    "\n",
    "column_types = {\n",
    "    name: np.float32 for name in column_names[:10]}.update(\n",
    "    {name: np.int8 for name in column_names[10:]})\n",
    "\n",
    "cover_types = [\n",
    "    'Spruce/fir',\n",
    "    'Lodgepole pine',\n",
    "    'Ponderosa pine',\n",
    "    'Cottonwood/willow',\n",
    "    'Aspen',\n",
    "    'Douglas-fir',\n",
    "    'Krummholz'\n",
    "]\n",
    "\n",
    "data = pd.read_csv(join('data','covtype.data'), header=None, names=column_names, dtype=column_types)"
   ]
  },
  {
   "cell_type": "code",
   "execution_count": 4,
   "metadata": {
    "collapsed": false
   },
   "outputs": [
    {
     "data": {
      "text/html": [
       "<div>\n",
       "<style scoped>\n",
       "    .dataframe tbody tr th:only-of-type {\n",
       "        vertical-align: middle;\n",
       "    }\n",
       "\n",
       "    .dataframe tbody tr th {\n",
       "        vertical-align: top;\n",
       "    }\n",
       "\n",
       "    .dataframe thead th {\n",
       "        text-align: right;\n",
       "    }\n",
       "</style>\n",
       "<table border=\"1\" class=\"dataframe\">\n",
       "  <thead>\n",
       "    <tr style=\"text-align: right;\">\n",
       "      <th></th>\n",
       "      <th>Elevation</th>\n",
       "      <th>Aspect_angle</th>\n",
       "      <th>Slope</th>\n",
       "      <th>Horiz_dist_to_nearest_water</th>\n",
       "      <th>Vert_dist_to_nearest_water</th>\n",
       "      <th>Horiz_dist_to_nearest_road</th>\n",
       "      <th>Incident_sunlight_at_9am</th>\n",
       "      <th>Incident_sunlight_at_12pm</th>\n",
       "      <th>Incident_sunlight_at_3pm</th>\n",
       "      <th>Horiz_dist_to_fire_ignition_point</th>\n",
       "      <th>...</th>\n",
       "      <th>Soil_type_31</th>\n",
       "      <th>Soil_type_32</th>\n",
       "      <th>Soil_type_33</th>\n",
       "      <th>Soil_type_34</th>\n",
       "      <th>Soil_type_35</th>\n",
       "      <th>Soil_type_36</th>\n",
       "      <th>Soil_type_37</th>\n",
       "      <th>Soil_type_38</th>\n",
       "      <th>Soil_type_39</th>\n",
       "      <th>Cover_type</th>\n",
       "    </tr>\n",
       "  </thead>\n",
       "  <tbody>\n",
       "    <tr>\n",
       "      <th>0</th>\n",
       "      <td>2596</td>\n",
       "      <td>51</td>\n",
       "      <td>3</td>\n",
       "      <td>258</td>\n",
       "      <td>0</td>\n",
       "      <td>510</td>\n",
       "      <td>221</td>\n",
       "      <td>232</td>\n",
       "      <td>148</td>\n",
       "      <td>6279</td>\n",
       "      <td>...</td>\n",
       "      <td>0</td>\n",
       "      <td>0</td>\n",
       "      <td>0</td>\n",
       "      <td>0</td>\n",
       "      <td>0</td>\n",
       "      <td>0</td>\n",
       "      <td>0</td>\n",
       "      <td>0</td>\n",
       "      <td>0</td>\n",
       "      <td>5</td>\n",
       "    </tr>\n",
       "    <tr>\n",
       "      <th>1</th>\n",
       "      <td>2590</td>\n",
       "      <td>56</td>\n",
       "      <td>2</td>\n",
       "      <td>212</td>\n",
       "      <td>-6</td>\n",
       "      <td>390</td>\n",
       "      <td>220</td>\n",
       "      <td>235</td>\n",
       "      <td>151</td>\n",
       "      <td>6225</td>\n",
       "      <td>...</td>\n",
       "      <td>0</td>\n",
       "      <td>0</td>\n",
       "      <td>0</td>\n",
       "      <td>0</td>\n",
       "      <td>0</td>\n",
       "      <td>0</td>\n",
       "      <td>0</td>\n",
       "      <td>0</td>\n",
       "      <td>0</td>\n",
       "      <td>5</td>\n",
       "    </tr>\n",
       "    <tr>\n",
       "      <th>2</th>\n",
       "      <td>2804</td>\n",
       "      <td>139</td>\n",
       "      <td>9</td>\n",
       "      <td>268</td>\n",
       "      <td>65</td>\n",
       "      <td>3180</td>\n",
       "      <td>234</td>\n",
       "      <td>238</td>\n",
       "      <td>135</td>\n",
       "      <td>6121</td>\n",
       "      <td>...</td>\n",
       "      <td>0</td>\n",
       "      <td>0</td>\n",
       "      <td>0</td>\n",
       "      <td>0</td>\n",
       "      <td>0</td>\n",
       "      <td>0</td>\n",
       "      <td>0</td>\n",
       "      <td>0</td>\n",
       "      <td>0</td>\n",
       "      <td>2</td>\n",
       "    </tr>\n",
       "    <tr>\n",
       "      <th>3</th>\n",
       "      <td>2785</td>\n",
       "      <td>155</td>\n",
       "      <td>18</td>\n",
       "      <td>242</td>\n",
       "      <td>118</td>\n",
       "      <td>3090</td>\n",
       "      <td>238</td>\n",
       "      <td>238</td>\n",
       "      <td>122</td>\n",
       "      <td>6211</td>\n",
       "      <td>...</td>\n",
       "      <td>0</td>\n",
       "      <td>0</td>\n",
       "      <td>0</td>\n",
       "      <td>0</td>\n",
       "      <td>0</td>\n",
       "      <td>0</td>\n",
       "      <td>0</td>\n",
       "      <td>0</td>\n",
       "      <td>0</td>\n",
       "      <td>2</td>\n",
       "    </tr>\n",
       "    <tr>\n",
       "      <th>4</th>\n",
       "      <td>2595</td>\n",
       "      <td>45</td>\n",
       "      <td>2</td>\n",
       "      <td>153</td>\n",
       "      <td>-1</td>\n",
       "      <td>391</td>\n",
       "      <td>220</td>\n",
       "      <td>234</td>\n",
       "      <td>150</td>\n",
       "      <td>6172</td>\n",
       "      <td>...</td>\n",
       "      <td>0</td>\n",
       "      <td>0</td>\n",
       "      <td>0</td>\n",
       "      <td>0</td>\n",
       "      <td>0</td>\n",
       "      <td>0</td>\n",
       "      <td>0</td>\n",
       "      <td>0</td>\n",
       "      <td>0</td>\n",
       "      <td>5</td>\n",
       "    </tr>\n",
       "  </tbody>\n",
       "</table>\n",
       "<p>5 rows × 55 columns</p>\n",
       "</div>"
      ],
      "text/plain": [
       "   Elevation  Aspect_angle  Slope  Horiz_dist_to_nearest_water  \\\n",
       "0       2596            51      3                          258   \n",
       "1       2590            56      2                          212   \n",
       "2       2804           139      9                          268   \n",
       "3       2785           155     18                          242   \n",
       "4       2595            45      2                          153   \n",
       "\n",
       "   Vert_dist_to_nearest_water  Horiz_dist_to_nearest_road  \\\n",
       "0                           0                         510   \n",
       "1                          -6                         390   \n",
       "2                          65                        3180   \n",
       "3                         118                        3090   \n",
       "4                          -1                         391   \n",
       "\n",
       "   Incident_sunlight_at_9am  Incident_sunlight_at_12pm  \\\n",
       "0                       221                        232   \n",
       "1                       220                        235   \n",
       "2                       234                        238   \n",
       "3                       238                        238   \n",
       "4                       220                        234   \n",
       "\n",
       "   Incident_sunlight_at_3pm  Horiz_dist_to_fire_ignition_point     ...      \\\n",
       "0                       148                               6279     ...       \n",
       "1                       151                               6225     ...       \n",
       "2                       135                               6121     ...       \n",
       "3                       122                               6211     ...       \n",
       "4                       150                               6172     ...       \n",
       "\n",
       "   Soil_type_31  Soil_type_32  Soil_type_33  Soil_type_34  Soil_type_35  \\\n",
       "0             0             0             0             0             0   \n",
       "1             0             0             0             0             0   \n",
       "2             0             0             0             0             0   \n",
       "3             0             0             0             0             0   \n",
       "4             0             0             0             0             0   \n",
       "\n",
       "   Soil_type_36  Soil_type_37  Soil_type_38  Soil_type_39  Cover_type  \n",
       "0             0             0             0             0           5  \n",
       "1             0             0             0             0           5  \n",
       "2             0             0             0             0           2  \n",
       "3             0             0             0             0           2  \n",
       "4             0             0             0             0           5  \n",
       "\n",
       "[5 rows x 55 columns]"
      ]
     },
     "execution_count": 4,
     "metadata": {},
     "output_type": "execute_result"
    }
   ],
   "source": [
    "data.head()"
   ]
  },
  {
   "cell_type": "code",
   "execution_count": 5,
   "metadata": {
    "collapsed": false
   },
   "outputs": [
    {
     "data": {
      "text/html": [
       "<div>\n",
       "<style scoped>\n",
       "    .dataframe tbody tr th:only-of-type {\n",
       "        vertical-align: middle;\n",
       "    }\n",
       "\n",
       "    .dataframe tbody tr th {\n",
       "        vertical-align: top;\n",
       "    }\n",
       "\n",
       "    .dataframe thead th {\n",
       "        text-align: right;\n",
       "    }\n",
       "</style>\n",
       "<table border=\"1\" class=\"dataframe\">\n",
       "  <thead>\n",
       "    <tr style=\"text-align: right;\">\n",
       "      <th></th>\n",
       "      <th>Elevation</th>\n",
       "      <th>Aspect_angle</th>\n",
       "      <th>Slope</th>\n",
       "      <th>Horiz_dist_to_nearest_water</th>\n",
       "      <th>Vert_dist_to_nearest_water</th>\n",
       "      <th>Horiz_dist_to_nearest_road</th>\n",
       "      <th>Incident_sunlight_at_9am</th>\n",
       "      <th>Incident_sunlight_at_12pm</th>\n",
       "      <th>Incident_sunlight_at_3pm</th>\n",
       "      <th>Horiz_dist_to_fire_ignition_point</th>\n",
       "    </tr>\n",
       "  </thead>\n",
       "  <tbody>\n",
       "    <tr>\n",
       "      <th>count</th>\n",
       "      <td>581012.000000</td>\n",
       "      <td>581012.000000</td>\n",
       "      <td>581012.000000</td>\n",
       "      <td>581012.000000</td>\n",
       "      <td>581012.000000</td>\n",
       "      <td>581012.000000</td>\n",
       "      <td>581012.000000</td>\n",
       "      <td>581012.000000</td>\n",
       "      <td>581012.000000</td>\n",
       "      <td>581012.000000</td>\n",
       "    </tr>\n",
       "    <tr>\n",
       "      <th>mean</th>\n",
       "      <td>2959.365301</td>\n",
       "      <td>155.656807</td>\n",
       "      <td>14.103704</td>\n",
       "      <td>269.428217</td>\n",
       "      <td>46.418855</td>\n",
       "      <td>2350.146611</td>\n",
       "      <td>212.146049</td>\n",
       "      <td>223.318716</td>\n",
       "      <td>142.528263</td>\n",
       "      <td>1980.291226</td>\n",
       "    </tr>\n",
       "    <tr>\n",
       "      <th>std</th>\n",
       "      <td>279.984734</td>\n",
       "      <td>111.913721</td>\n",
       "      <td>7.488242</td>\n",
       "      <td>212.549356</td>\n",
       "      <td>58.295232</td>\n",
       "      <td>1559.254870</td>\n",
       "      <td>26.769889</td>\n",
       "      <td>19.768697</td>\n",
       "      <td>38.274529</td>\n",
       "      <td>1324.195210</td>\n",
       "    </tr>\n",
       "    <tr>\n",
       "      <th>min</th>\n",
       "      <td>1859.000000</td>\n",
       "      <td>0.000000</td>\n",
       "      <td>0.000000</td>\n",
       "      <td>0.000000</td>\n",
       "      <td>-173.000000</td>\n",
       "      <td>0.000000</td>\n",
       "      <td>0.000000</td>\n",
       "      <td>0.000000</td>\n",
       "      <td>0.000000</td>\n",
       "      <td>0.000000</td>\n",
       "    </tr>\n",
       "    <tr>\n",
       "      <th>10%</th>\n",
       "      <td>2581.000000</td>\n",
       "      <td>24.000000</td>\n",
       "      <td>5.000000</td>\n",
       "      <td>30.000000</td>\n",
       "      <td>0.000000</td>\n",
       "      <td>591.000000</td>\n",
       "      <td>176.000000</td>\n",
       "      <td>198.000000</td>\n",
       "      <td>95.000000</td>\n",
       "      <td>595.000000</td>\n",
       "    </tr>\n",
       "    <tr>\n",
       "      <th>50%</th>\n",
       "      <td>2996.000000</td>\n",
       "      <td>127.000000</td>\n",
       "      <td>13.000000</td>\n",
       "      <td>218.000000</td>\n",
       "      <td>30.000000</td>\n",
       "      <td>1997.000000</td>\n",
       "      <td>218.000000</td>\n",
       "      <td>226.000000</td>\n",
       "      <td>143.000000</td>\n",
       "      <td>1710.000000</td>\n",
       "    </tr>\n",
       "    <tr>\n",
       "      <th>90%</th>\n",
       "      <td>3272.000000</td>\n",
       "      <td>329.000000</td>\n",
       "      <td>24.000000</td>\n",
       "      <td>564.000000</td>\n",
       "      <td>121.000000</td>\n",
       "      <td>4793.000000</td>\n",
       "      <td>241.000000</td>\n",
       "      <td>247.000000</td>\n",
       "      <td>191.000000</td>\n",
       "      <td>3747.000000</td>\n",
       "    </tr>\n",
       "    <tr>\n",
       "      <th>max</th>\n",
       "      <td>3858.000000</td>\n",
       "      <td>360.000000</td>\n",
       "      <td>66.000000</td>\n",
       "      <td>1397.000000</td>\n",
       "      <td>601.000000</td>\n",
       "      <td>7117.000000</td>\n",
       "      <td>254.000000</td>\n",
       "      <td>254.000000</td>\n",
       "      <td>254.000000</td>\n",
       "      <td>7173.000000</td>\n",
       "    </tr>\n",
       "  </tbody>\n",
       "</table>\n",
       "</div>"
      ],
      "text/plain": [
       "           Elevation   Aspect_angle          Slope  \\\n",
       "count  581012.000000  581012.000000  581012.000000   \n",
       "mean     2959.365301     155.656807      14.103704   \n",
       "std       279.984734     111.913721       7.488242   \n",
       "min      1859.000000       0.000000       0.000000   \n",
       "10%      2581.000000      24.000000       5.000000   \n",
       "50%      2996.000000     127.000000      13.000000   \n",
       "90%      3272.000000     329.000000      24.000000   \n",
       "max      3858.000000     360.000000      66.000000   \n",
       "\n",
       "       Horiz_dist_to_nearest_water  Vert_dist_to_nearest_water  \\\n",
       "count                581012.000000               581012.000000   \n",
       "mean                    269.428217                   46.418855   \n",
       "std                     212.549356                   58.295232   \n",
       "min                       0.000000                 -173.000000   \n",
       "10%                      30.000000                    0.000000   \n",
       "50%                     218.000000                   30.000000   \n",
       "90%                     564.000000                  121.000000   \n",
       "max                    1397.000000                  601.000000   \n",
       "\n",
       "       Horiz_dist_to_nearest_road  Incident_sunlight_at_9am  \\\n",
       "count               581012.000000             581012.000000   \n",
       "mean                  2350.146611                212.146049   \n",
       "std                   1559.254870                 26.769889   \n",
       "min                      0.000000                  0.000000   \n",
       "10%                    591.000000                176.000000   \n",
       "50%                   1997.000000                218.000000   \n",
       "90%                   4793.000000                241.000000   \n",
       "max                   7117.000000                254.000000   \n",
       "\n",
       "       Incident_sunlight_at_12pm  Incident_sunlight_at_3pm  \\\n",
       "count              581012.000000             581012.000000   \n",
       "mean                  223.318716                142.528263   \n",
       "std                    19.768697                 38.274529   \n",
       "min                     0.000000                  0.000000   \n",
       "10%                   198.000000                 95.000000   \n",
       "50%                   226.000000                143.000000   \n",
       "90%                   247.000000                191.000000   \n",
       "max                   254.000000                254.000000   \n",
       "\n",
       "       Horiz_dist_to_fire_ignition_point  \n",
       "count                      581012.000000  \n",
       "mean                         1980.291226  \n",
       "std                          1324.195210  \n",
       "min                             0.000000  \n",
       "10%                           595.000000  \n",
       "50%                          1710.000000  \n",
       "90%                          3747.000000  \n",
       "max                          7173.000000  "
      ]
     },
     "execution_count": 5,
     "metadata": {},
     "output_type": "execute_result"
    }
   ],
   "source": [
    "descr = data[column_names[:10]].describe(percentiles=[0.1, 0.5, 0.9])\n",
    "descr"
   ]
  },
  {
   "cell_type": "code",
   "execution_count": 6,
   "metadata": {
    "collapsed": false
   },
   "outputs": [
    {
     "data": {
      "image/png": "[encoded data removed]",
      "text/plain": [
       "<Figure size 1152x360 with 10 Axes>"
      ]
     },
     "metadata": {},
     "output_type": "display_data"
    }
   ],
   "source": [
    "fig = plt.figure(figsize=(16, 5))\n",
    "layout = (2, 5)\n",
    "gs = GridSpec(*layout)\n",
    "axes = [plt.subplot(gs[np.unravel_index(i, layout)]) for i in range(10)]\n",
    "data[column_names[:10]].hist(bins=100, ax=axes)\n",
    "plt.show()"
   ]
  },
  {
   "cell_type": "code",
   "execution_count": 7,
   "metadata": {
    "collapsed": false
   },
   "outputs": [
    {
     "data": {
      "image/png": "[encoded data removed]",
      "text/plain": [
       "<Figure size 576x576 with 1 Axes>"
      ]
     },
     "metadata": {},
     "output_type": "display_data"
    },
    {
     "name": "stdout",
     "output_type": "stream",
     "text": [
      "2    283301\n",
      "1    211840\n",
      "3     35754\n",
      "7     20510\n",
      "6     17367\n",
      "5      9493\n",
      "4      2747\n",
      "Name: Cover_type, dtype: int64\n"
     ]
    }
   ],
   "source": [
    "cmap = plt.cm.get_cmap('plasma')\n",
    "class_colours = np.array([cmap(i) for i in np.arange(7)/7])\n",
    "\n",
    "fig = plt.figure(figsize=(8, 8))\n",
    "data['Cover_type'].value_counts().plot(\n",
    "    kind='pie', explode=(0, 0, 0.1, 0.2, 0.2, 0.3, 0.4),\n",
    "    wedgeprops={'linewidth':2, 'edgecolor': 'w'}, labels=None,\n",
    "    colors=class_colours, fontsize=16\n",
    ")\n",
    "plt.axis('equal')\n",
    "plt.legend(labels=cover_types, fontsize=13, ncol=3)\n",
    "plt.show()\n",
    "\n",
    "print(data['Cover_type'].value_counts())"
   ]
  },
  {
   "cell_type": "code",
   "execution_count": 8,
   "metadata": {
    "collapsed": true
   },
   "outputs": [],
   "source": [
    "column_correlations = data[column_names[:10]].corr(method='pearson')"
   ]
  },
  {
   "cell_type": "code",
   "execution_count": 9,
   "metadata": {
    "collapsed": false
   },
   "outputs": [
    {
     "data": {
      "image/png": "[encoded data removed]",
      "text/plain": [
       "<Figure size 504x504 with 2 Axes>"
      ]
     },
     "metadata": {},
     "output_type": "display_data"
    }
   ],
   "source": [
    "fig, ax = plt.subplots(figsize=(7, 7))\n",
    "im = ax.imshow(column_correlations, cmap=plt.cm.BrBG,\n",
    "          vmin=-0.8, vmax=0.8, interpolation='nearest')\n",
    "cbar = plt.colorbar(im, fraction=0.04)\n",
    "cbar.set_label('Column-wise Pearson correlation')\n",
    "ticks = np.arange(0, 10, 1); labels = np.array(column_names[:10])[ticks]\n",
    "ax.set_xticks(ticks); ax.set_yticks(ticks)\n",
    "ax.set_yticklabels(labels, fontsize=14)\n",
    "ax.set_xticklabels(labels, fontsize=14, rotation=90)\n",
    "\n",
    "plt.show()"
   ]
  },
  {
   "cell_type": "markdown",
   "metadata": {},
   "source": [
    "## Extract features and labels from dataframe"
   ]
  },
  {
   "cell_type": "code",
   "execution_count": 12,
   "metadata": {
    "collapsed": false
   },
   "outputs": [
    {
     "name": "stdout",
     "output_type": "stream",
     "text": [
      "(581012, 14) (581012,)\n"
     ]
    }
   ],
   "source": [
    "features = data[column_names[:14]].values\n",
    "labels = data['Cover_type'].values - 1\n",
    "print(features.shape, labels.shape)"
   ]
  },
  {
   "cell_type": "markdown",
   "metadata": {},
   "source": [
    "## How features separate classes"
   ]
  },
  {
   "cell_type": "code",
   "execution_count": 11,
   "metadata": {
    "collapsed": false
   },
   "outputs": [
    {
     "data": {
      "image/png": "[encoded data removed]",
      "text/plain": [
       "<Figure size 1152x288 with 4 Axes>"
      ]
     },
     "metadata": {},
     "output_type": "display_data"
    }
   ],
   "source": [
    "# Soil type and wilderness areas.\n",
    "wilderness_columns = data[['Wilderness_area_{}'.format(i) for i in range(4)]].values.T\n",
    "labels_per_area = [labels[np.where(w_col == 1)] for w_col in wilderness_columns]\n",
    "\n",
    "fig = plt.figure(figsize=(16, 4))\n",
    "gs = GridSpec(1, 4)\n",
    "\n",
    "axes = [plt.subplot(gs[0, i]) for i in range(4)]\n",
    "\n",
    "\n",
    "for i, ax in enumerate(axes):\n",
    "    classes, class_counts = np.unique(labels_per_area[i], return_counts=True)\n",
    "    ax.pie(class_counts, labels=np.array(cover_types)[classes], autopct='%1.1f%%',\n",
    "        colors=class_colours[classes],\n",
    "                 wedgeprops={'linewidth':1, 'edgecolor': 'w'})\n",
    "    h, l = ax.get_legend_handles_labels()\n",
    "plt.tight_layout()\n",
    "plt.show()"
   ]
  },
  {
   "cell_type": "code",
   "execution_count": 17,
   "metadata": {
    "collapsed": false
   },
   "outputs": [
    {
     "data": {
      "text/plain": [
       "(581012,)"
      ]
     },
     "execution_count": 17,
     "metadata": {},
     "output_type": "execute_result"
    }
   ],
   "source": [
    "feature_column = data['Elevation'].values\n",
    "\n",
    "bins = 100\n",
    "\n",
    "row_indices_split = np.array_split(feature_column.argsort(), bins)\n",
    "binned_values = np.linspace(feature_column.min(), feature_column.max(), num=100)"
   ]
  },
  {
   "cell_type": "markdown",
   "metadata": {},
   "source": [
    "## Outlier removal"
   ]
  },
  {
   "cell_type": "code",
   "execution_count": 35,
   "metadata": {
    "collapsed": true
   },
   "outputs": [],
   "source": [
    "# Remove data that lies outside 10-90% (or some other range)\n",
    "numeric_data = data[column_names[:10]]\n",
    "bool_array = (\n",
    "    ( numeric_data > numeric_data.quantile(1e-4) )\n",
    "    & ( numeric_data < numeric_data.quantile(1-1e-4) ).values\n",
    ")\n",
    "rows_to_keep = np.all(bool_array, axis=1)"
   ]
  },
  {
   "cell_type": "code",
   "execution_count": 36,
   "metadata": {
    "collapsed": false
   },
   "outputs": [
    {
     "name": "stdout",
     "output_type": "stream",
     "text": [
      "(581012, 10)\n",
      "(540300, 10)\n"
     ]
    }
   ],
   "source": [
    "print(bool_array.shape)\n",
    "reduced_data = numeric_data.values[rows_to_keep, :]\n",
    "print(reduced_data.shape) #542401, 10"
   ]
  },
  {
   "cell_type": "code",
   "execution_count": 41,
   "metadata": {
    "collapsed": false
   },
   "outputs": [
    {
     "name": "stdout",
     "output_type": "stream",
     "text": [
      "(581012, 10) (581012,)\n",
      "(581012, 10) (581012,)\n"
     ]
    }
   ],
   "source": [
    "print(features.shape, labels.shape)\n",
    "\n",
    "#features = features[rows_to_keep]\n",
    "#labels = labels[rows_to_keep]\n",
    "\n",
    "print(features.shape, labels.shape)"
   ]
  },
  {
   "cell_type": "markdown",
   "metadata": {},
   "source": [
    "## Make class representations equal in dataset"
   ]
  },
  {
   "cell_type": "code",
   "execution_count": 13,
   "metadata": {
    "collapsed": false
   },
   "outputs": [
    {
     "name": "stdout",
     "output_type": "stream",
     "text": [
      "Before:\n",
      "Class 0: 211840 - Class 1: 283301 - Class 2: 35754 - Class 3: 2747 - Class 4: 9493 - Class 5: 17367 - Class 6: 20510\n",
      "After:\n",
      "Class 0: 2747 - Class 1: 2747 - Class 2: 2747 - Class 3: 2747 - Class 4: 2747 - Class 5: 2747 - Class 6: 2747\n"
     ]
    }
   ],
   "source": [
    "# re-organise data such that each class is equally represented\n",
    "\n",
    "# First, sort the labels and features in ascending class order\n",
    "sort_idcs = np.argsort(labels)\n",
    "labels_sorted = labels[sort_idcs]\n",
    "features_sorted = features[sort_idcs, :]\n",
    "\n",
    "# Next, count how many observations we have per class\n",
    "class_, class_counts = np.unique(labels_sorted, return_counts=True)\n",
    "print('Before:')\n",
    "print(' - '.join(['Class {}: {}'.format(cls, counts) for cls, counts in zip(class_, class_counts)]))\n",
    "\n",
    "# Now extract the maximum number of row indices at random for each class,\n",
    "# as dictated by the minimum class count. Store the index array in a list.\n",
    "min_class_count =  np.min(class_counts)\n",
    "repr_indices_per_class = []\n",
    "\n",
    "start = 0\n",
    "for class_count in class_counts:\n",
    "    stop = start + class_count\n",
    "    class_indices = np.arange(start, stop, 1)\n",
    "    np.random.shuffle(class_indices)\n",
    "    repr_indices_per_class.append(class_indices[:min_class_count])\n",
    "    start = stop\n",
    "    \n",
    "# Grab the desired features and labels:\n",
    "new_labels = np.hstack(([labels_sorted[index_array] for index_array in repr_indices_per_class]))\n",
    "new_features = np.vstack(([features_sorted[index_array, :] for index_array in repr_indices_per_class]))\n",
    "\n",
    "\n",
    "# Next, count how many observations we have per class\n",
    "class_, class_counts = np.unique(new_labels, return_counts=True)\n",
    "print('After:')\n",
    "print(' - '.join(['Class {}: {}'.format(cls, counts) for cls, counts in zip(class_, class_counts)]))\n",
    "\n"
   ]
  },
  {
   "cell_type": "markdown",
   "metadata": {},
   "source": [
    "## RandomForest with equal class representation (~85%)"
   ]
  },
  {
   "cell_type": "code",
   "execution_count": 14,
   "metadata": {
    "collapsed": false
   },
   "outputs": [
    {
     "name": "stdout",
     "output_type": "stream",
     "text": [
      "Ran Classifier in 2.24 s.\n"
     ]
    }
   ],
   "source": [
    "tic = time.time()\n",
    "cms = cross_validate_classifier(RandomForestClassifier,\n",
    "                               new_features, new_labels,\n",
    "                                kfold=2, kwargs={'n_estimators': 100, 'n_jobs': 6})\n",
    "toc = time.time() - tic\n",
    "print('Ran Classifier in {:.2f} s.'.format(toc))"
   ]
  },
  {
   "cell_type": "code",
   "execution_count": 15,
   "metadata": {
    "collapsed": false
   },
   "outputs": [
    {
     "name": "stdout",
     "output_type": "stream",
     "text": [
      "\n",
      "    Overall Accuracy: 0.853\n",
      "    Mean Precision:   0.850 +/- 0.063\n",
      "    Mean Recall:      0.853 +/- 0.109\n",
      "    Mean F1 Score:    0.850 +/- 0.086\n",
      "    \n",
      "Average/overall metrics:\n"
     ]
    },
    {
     "data": {
      "text/html": [
       "<div>\n",
       "<style scoped>\n",
       "    .dataframe tbody tr th:only-of-type {\n",
       "        vertical-align: middle;\n",
       "    }\n",
       "\n",
       "    .dataframe tbody tr th {\n",
       "        vertical-align: top;\n",
       "    }\n",
       "\n",
       "    .dataframe thead th {\n",
       "        text-align: right;\n",
       "    }\n",
       "</style>\n",
       "<table border=\"1\" class=\"dataframe\">\n",
       "  <thead>\n",
       "    <tr style=\"text-align: right;\">\n",
       "      <th></th>\n",
       "      <th>Average F-Meas</th>\n",
       "      <th>Average Precision</th>\n",
       "      <th>Average Recall</th>\n",
       "      <th>Overall Accuracy</th>\n",
       "    </tr>\n",
       "  </thead>\n",
       "  <tbody>\n",
       "    <tr>\n",
       "      <th>Class-Averaged or Overall:</th>\n",
       "      <td>0.85</td>\n",
       "      <td>0.85</td>\n",
       "      <td>0.85</td>\n",
       "      <td>0.85</td>\n",
       "    </tr>\n",
       "  </tbody>\n",
       "</table>\n",
       "</div>"
      ],
      "text/plain": [
       "                            Average F-Meas  Average Precision  Average Recall  \\\n",
       "Class-Averaged or Overall:            0.85               0.85            0.85   \n",
       "\n",
       "                            Overall Accuracy  \n",
       "Class-Averaged or Overall:              0.85  "
      ]
     },
     "metadata": {},
     "output_type": "display_data"
    },
    {
     "name": "stdout",
     "output_type": "stream",
     "text": [
      "Class-specific metrics:\n"
     ]
    },
    {
     "data": {
      "text/html": [
       "<style  type=\"text/css\" >\n",
       "    #T_f4d1745c_6136_11e8_a85f_e5860ce1c9f7row0_col1 {\n",
       "            color:  blue;\n",
       "        }    #T_f4d1745c_6136_11e8_a85f_e5860ce1c9f7row0_col2 {\n",
       "            color:  blue;\n",
       "        }    #T_f4d1745c_6136_11e8_a85f_e5860ce1c9f7row0_col3 {\n",
       "            color:  blue;\n",
       "        }    #T_f4d1745c_6136_11e8_a85f_e5860ce1c9f7row1_col1 {\n",
       "            color:  blue;\n",
       "        }    #T_f4d1745c_6136_11e8_a85f_e5860ce1c9f7row1_col2 {\n",
       "            color:  blue;\n",
       "        }    #T_f4d1745c_6136_11e8_a85f_e5860ce1c9f7row1_col3 {\n",
       "            color:  black;\n",
       "        }    #T_f4d1745c_6136_11e8_a85f_e5860ce1c9f7row2_col1 {\n",
       "            color:  blue;\n",
       "        }    #T_f4d1745c_6136_11e8_a85f_e5860ce1c9f7row2_col2 {\n",
       "            color:  blue;\n",
       "        }    #T_f4d1745c_6136_11e8_a85f_e5860ce1c9f7row2_col3 {\n",
       "            color:  blue;\n",
       "        }    #T_f4d1745c_6136_11e8_a85f_e5860ce1c9f7row3_col1 {\n",
       "            color:  blue;\n",
       "        }    #T_f4d1745c_6136_11e8_a85f_e5860ce1c9f7row3_col2 {\n",
       "            color:  blue;\n",
       "        }    #T_f4d1745c_6136_11e8_a85f_e5860ce1c9f7row3_col3 {\n",
       "            color:  blue;\n",
       "        }    #T_f4d1745c_6136_11e8_a85f_e5860ce1c9f7row4_col1 {\n",
       "            color:  blue;\n",
       "        }    #T_f4d1745c_6136_11e8_a85f_e5860ce1c9f7row4_col2 {\n",
       "            color:  blue;\n",
       "        }    #T_f4d1745c_6136_11e8_a85f_e5860ce1c9f7row4_col3 {\n",
       "            color:  blue;\n",
       "        }    #T_f4d1745c_6136_11e8_a85f_e5860ce1c9f7row5_col1 {\n",
       "            color:  blue;\n",
       "        }    #T_f4d1745c_6136_11e8_a85f_e5860ce1c9f7row5_col2 {\n",
       "            color:  blue;\n",
       "        }    #T_f4d1745c_6136_11e8_a85f_e5860ce1c9f7row5_col3 {\n",
       "            color:  blue;\n",
       "        }    #T_f4d1745c_6136_11e8_a85f_e5860ce1c9f7row6_col1 {\n",
       "            color:  blue;\n",
       "        }    #T_f4d1745c_6136_11e8_a85f_e5860ce1c9f7row6_col2 {\n",
       "            color:  blue;\n",
       "        }    #T_f4d1745c_6136_11e8_a85f_e5860ce1c9f7row6_col3 {\n",
       "            color:  blue;\n",
       "        }</style>  \n",
       "<table id=\"T_f4d1745c_6136_11e8_a85f_e5860ce1c9f7\" > \n",
       "<thead>    <tr> \n",
       "        <th class=\"blank level0\" ></th> \n",
       "        <th class=\"col_heading level0 col0\" >Class</th> \n",
       "        <th class=\"col_heading level0 col1\" >F-Meas</th> \n",
       "        <th class=\"col_heading level0 col2\" >Precision</th> \n",
       "        <th class=\"col_heading level0 col3\" >Recall</th> \n",
       "    </tr>    <tr> \n",
       "        <th class=\"index_name level0\" >Confusion Matrix Index</th> \n",
       "        <th class=\"blank\" ></th> \n",
       "        <th class=\"blank\" ></th> \n",
       "        <th class=\"blank\" ></th> \n",
       "        <th class=\"blank\" ></th> \n",
       "    </tr></thead> \n",
       "<tbody>    <tr> \n",
       "        <th id=\"T_f4d1745c_6136_11e8_a85f_e5860ce1c9f7level0_row0\" class=\"row_heading level0 row0\" >0</th> \n",
       "        <td id=\"T_f4d1745c_6136_11e8_a85f_e5860ce1c9f7row0_col0\" class=\"data row0 col0\" >Spruce/fir</td> \n",
       "        <td id=\"T_f4d1745c_6136_11e8_a85f_e5860ce1c9f7row0_col1\" class=\"data row0 col1\" >0.75</td> \n",
       "        <td id=\"T_f4d1745c_6136_11e8_a85f_e5860ce1c9f7row0_col2\" class=\"data row0 col2\" >0.77</td> \n",
       "        <td id=\"T_f4d1745c_6136_11e8_a85f_e5860ce1c9f7row0_col3\" class=\"data row0 col3\" >0.74</td> \n",
       "    </tr>    <tr> \n",
       "        <th id=\"T_f4d1745c_6136_11e8_a85f_e5860ce1c9f7level0_row1\" class=\"row_heading level0 row1\" >1</th> \n",
       "        <td id=\"T_f4d1745c_6136_11e8_a85f_e5860ce1c9f7row1_col0\" class=\"data row1 col0\" >Lodgepole pine</td> \n",
       "        <td id=\"T_f4d1745c_6136_11e8_a85f_e5860ce1c9f7row1_col1\" class=\"data row1 col1\" >0.71</td> \n",
       "        <td id=\"T_f4d1745c_6136_11e8_a85f_e5860ce1c9f7row1_col2\" class=\"data row1 col2\" >0.76</td> \n",
       "        <td id=\"T_f4d1745c_6136_11e8_a85f_e5860ce1c9f7row1_col3\" class=\"data row1 col3\" >0.66</td> \n",
       "    </tr>    <tr> \n",
       "        <th id=\"T_f4d1745c_6136_11e8_a85f_e5860ce1c9f7level0_row2\" class=\"row_heading level0 row2\" >2</th> \n",
       "        <td id=\"T_f4d1745c_6136_11e8_a85f_e5860ce1c9f7row2_col0\" class=\"data row2 col0\" >Ponderosa pine</td> \n",
       "        <td id=\"T_f4d1745c_6136_11e8_a85f_e5860ce1c9f7row2_col1\" class=\"data row2 col1\" >0.83</td> \n",
       "        <td id=\"T_f4d1745c_6136_11e8_a85f_e5860ce1c9f7row2_col2\" class=\"data row2 col2\" >0.83</td> \n",
       "        <td id=\"T_f4d1745c_6136_11e8_a85f_e5860ce1c9f7row2_col3\" class=\"data row2 col3\" >0.82</td> \n",
       "    </tr>    <tr> \n",
       "        <th id=\"T_f4d1745c_6136_11e8_a85f_e5860ce1c9f7level0_row3\" class=\"row_heading level0 row3\" >3</th> \n",
       "        <td id=\"T_f4d1745c_6136_11e8_a85f_e5860ce1c9f7row3_col0\" class=\"data row3 col0\" >Cottonwood/willow</td> \n",
       "        <td id=\"T_f4d1745c_6136_11e8_a85f_e5860ce1c9f7row3_col1\" class=\"data row3 col1\" >0.94</td> \n",
       "        <td id=\"T_f4d1745c_6136_11e8_a85f_e5860ce1c9f7row3_col2\" class=\"data row3 col2\" >0.93</td> \n",
       "        <td id=\"T_f4d1745c_6136_11e8_a85f_e5860ce1c9f7row3_col3\" class=\"data row3 col3\" >0.95</td> \n",
       "    </tr>    <tr> \n",
       "        <th id=\"T_f4d1745c_6136_11e8_a85f_e5860ce1c9f7level0_row4\" class=\"row_heading level0 row4\" >4</th> \n",
       "        <td id=\"T_f4d1745c_6136_11e8_a85f_e5860ce1c9f7row4_col0\" class=\"data row4 col0\" >Aspen</td> \n",
       "        <td id=\"T_f4d1745c_6136_11e8_a85f_e5860ce1c9f7row4_col1\" class=\"data row4 col1\" >0.91</td> \n",
       "        <td id=\"T_f4d1745c_6136_11e8_a85f_e5860ce1c9f7row4_col2\" class=\"data row4 col2\" >0.88</td> \n",
       "        <td id=\"T_f4d1745c_6136_11e8_a85f_e5860ce1c9f7row4_col3\" class=\"data row4 col3\" >0.95</td> \n",
       "    </tr>    <tr> \n",
       "        <th id=\"T_f4d1745c_6136_11e8_a85f_e5860ce1c9f7level0_row5\" class=\"row_heading level0 row5\" >5</th> \n",
       "        <td id=\"T_f4d1745c_6136_11e8_a85f_e5860ce1c9f7row5_col0\" class=\"data row5 col0\" >Douglas-fir</td> \n",
       "        <td id=\"T_f4d1745c_6136_11e8_a85f_e5860ce1c9f7row5_col1\" class=\"data row5 col1\" >0.86</td> \n",
       "        <td id=\"T_f4d1745c_6136_11e8_a85f_e5860ce1c9f7row5_col2\" class=\"data row5 col2\" >0.84</td> \n",
       "        <td id=\"T_f4d1745c_6136_11e8_a85f_e5860ce1c9f7row5_col3\" class=\"data row5 col3\" >0.87</td> \n",
       "    </tr>    <tr> \n",
       "        <th id=\"T_f4d1745c_6136_11e8_a85f_e5860ce1c9f7level0_row6\" class=\"row_heading level0 row6\" >6</th> \n",
       "        <td id=\"T_f4d1745c_6136_11e8_a85f_e5860ce1c9f7row6_col0\" class=\"data row6 col0\" >Krummholz</td> \n",
       "        <td id=\"T_f4d1745c_6136_11e8_a85f_e5860ce1c9f7row6_col1\" class=\"data row6 col1\" >0.95</td> \n",
       "        <td id=\"T_f4d1745c_6136_11e8_a85f_e5860ce1c9f7row6_col2\" class=\"data row6 col2\" >0.92</td> \n",
       "        <td id=\"T_f4d1745c_6136_11e8_a85f_e5860ce1c9f7row6_col3\" class=\"data row6 col3\" >0.97</td> \n",
       "    </tr></tbody> \n",
       "</table> "
      ],
      "text/plain": [
       "<pandas.io.formats.style.Styler at 0x7fc1e4ae1810>"
      ]
     },
     "metadata": {},
     "output_type": "display_data"
    },
    {
     "name": "stdout",
     "output_type": "stream",
     "text": [
      "Confusion matrix (yellow = col max; red = row max):\n"
     ]
    },
    {
     "data": {
      "text/html": [
       "<style  type=\"text/css\" >\n",
       "    #T_f4d1745d_6136_11e8_a85f_e5860ce1c9f7row0_col0 {\n",
       "            background-color:  yellow;\n",
       "            color:  red;\n",
       "        }    #T_f4d1745d_6136_11e8_a85f_e5860ce1c9f7row1_col1 {\n",
       "            background-color:  yellow;\n",
       "            color:  red;\n",
       "        }    #T_f4d1745d_6136_11e8_a85f_e5860ce1c9f7row2_col2 {\n",
       "            background-color:  yellow;\n",
       "            color:  red;\n",
       "        }    #T_f4d1745d_6136_11e8_a85f_e5860ce1c9f7row3_col3 {\n",
       "            background-color:  yellow;\n",
       "            color:  red;\n",
       "        }    #T_f4d1745d_6136_11e8_a85f_e5860ce1c9f7row4_col4 {\n",
       "            background-color:  yellow;\n",
       "            color:  red;\n",
       "        }    #T_f4d1745d_6136_11e8_a85f_e5860ce1c9f7row5_col5 {\n",
       "            background-color:  yellow;\n",
       "            color:  red;\n",
       "        }    #T_f4d1745d_6136_11e8_a85f_e5860ce1c9f7row6_col6 {\n",
       "            background-color:  yellow;\n",
       "            color:  red;\n",
       "        }</style>  \n",
       "<table id=\"T_f4d1745d_6136_11e8_a85f_e5860ce1c9f7\" > \n",
       "<thead>    <tr> \n",
       "        <th class=\"index_name level0\" >Predicted</th> \n",
       "        <th class=\"col_heading level0 col0\" >0</th> \n",
       "        <th class=\"col_heading level0 col1\" >1</th> \n",
       "        <th class=\"col_heading level0 col2\" >2</th> \n",
       "        <th class=\"col_heading level0 col3\" >3</th> \n",
       "        <th class=\"col_heading level0 col4\" >4</th> \n",
       "        <th class=\"col_heading level0 col5\" >5</th> \n",
       "        <th class=\"col_heading level0 col6\" >6</th> \n",
       "    </tr>    <tr> \n",
       "        <th class=\"index_name level0\" >Actual</th> \n",
       "        <th class=\"blank\" ></th> \n",
       "        <th class=\"blank\" ></th> \n",
       "        <th class=\"blank\" ></th> \n",
       "        <th class=\"blank\" ></th> \n",
       "        <th class=\"blank\" ></th> \n",
       "        <th class=\"blank\" ></th> \n",
       "        <th class=\"blank\" ></th> \n",
       "    </tr></thead> \n",
       "<tbody>    <tr> \n",
       "        <th id=\"T_f4d1745d_6136_11e8_a85f_e5860ce1c9f7level0_row0\" class=\"row_heading level0 row0\" >0</th> \n",
       "        <td id=\"T_f4d1745d_6136_11e8_a85f_e5860ce1c9f7row0_col0\" class=\"data row0 col0\" >206</td> \n",
       "        <td id=\"T_f4d1745d_6136_11e8_a85f_e5860ce1c9f7row0_col1\" class=\"data row0 col1\" >45</td> \n",
       "        <td id=\"T_f4d1745d_6136_11e8_a85f_e5860ce1c9f7row0_col2\" class=\"data row0 col2\" >0</td> \n",
       "        <td id=\"T_f4d1745d_6136_11e8_a85f_e5860ce1c9f7row0_col3\" class=\"data row0 col3\" >0</td> \n",
       "        <td id=\"T_f4d1745d_6136_11e8_a85f_e5860ce1c9f7row0_col4\" class=\"data row0 col4\" >6</td> \n",
       "        <td id=\"T_f4d1745d_6136_11e8_a85f_e5860ce1c9f7row0_col5\" class=\"data row0 col5\" >0.5</td> \n",
       "        <td id=\"T_f4d1745d_6136_11e8_a85f_e5860ce1c9f7row0_col6\" class=\"data row0 col6\" >20</td> \n",
       "    </tr>    <tr> \n",
       "        <th id=\"T_f4d1745d_6136_11e8_a85f_e5860ce1c9f7level0_row1\" class=\"row_heading level0 row1\" >1</th> \n",
       "        <td id=\"T_f4d1745d_6136_11e8_a85f_e5860ce1c9f7row1_col0\" class=\"data row1 col0\" >54.5</td> \n",
       "        <td id=\"T_f4d1745d_6136_11e8_a85f_e5860ce1c9f7row1_col1\" class=\"data row1 col1\" >179</td> \n",
       "        <td id=\"T_f4d1745d_6136_11e8_a85f_e5860ce1c9f7row1_col2\" class=\"data row1 col2\" >4.5</td> \n",
       "        <td id=\"T_f4d1745d_6136_11e8_a85f_e5860ce1c9f7row1_col3\" class=\"data row1 col3\" >0</td> \n",
       "        <td id=\"T_f4d1745d_6136_11e8_a85f_e5860ce1c9f7row1_col4\" class=\"data row1 col4\" >22</td> \n",
       "        <td id=\"T_f4d1745d_6136_11e8_a85f_e5860ce1c9f7row1_col5\" class=\"data row1 col5\" >7.5</td> \n",
       "        <td id=\"T_f4d1745d_6136_11e8_a85f_e5860ce1c9f7row1_col6\" class=\"data row1 col6\" >2.5</td> \n",
       "    </tr>    <tr> \n",
       "        <th id=\"T_f4d1745d_6136_11e8_a85f_e5860ce1c9f7level0_row2\" class=\"row_heading level0 row2\" >2</th> \n",
       "        <td id=\"T_f4d1745d_6136_11e8_a85f_e5860ce1c9f7row2_col0\" class=\"data row2 col0\" >0</td> \n",
       "        <td id=\"T_f4d1745d_6136_11e8_a85f_e5860ce1c9f7row2_col1\" class=\"data row2 col1\" >0.5</td> \n",
       "        <td id=\"T_f4d1745d_6136_11e8_a85f_e5860ce1c9f7row2_col2\" class=\"data row2 col2\" >222.5</td> \n",
       "        <td id=\"T_f4d1745d_6136_11e8_a85f_e5860ce1c9f7row2_col3\" class=\"data row2 col3\" >12</td> \n",
       "        <td id=\"T_f4d1745d_6136_11e8_a85f_e5860ce1c9f7row2_col4\" class=\"data row2 col4\" >4</td> \n",
       "        <td id=\"T_f4d1745d_6136_11e8_a85f_e5860ce1c9f7row2_col5\" class=\"data row2 col5\" >32.5</td> \n",
       "        <td id=\"T_f4d1745d_6136_11e8_a85f_e5860ce1c9f7row2_col6\" class=\"data row2 col6\" >0</td> \n",
       "    </tr>    <tr> \n",
       "        <th id=\"T_f4d1745d_6136_11e8_a85f_e5860ce1c9f7level0_row3\" class=\"row_heading level0 row3\" >3</th> \n",
       "        <td id=\"T_f4d1745d_6136_11e8_a85f_e5860ce1c9f7row3_col0\" class=\"data row3 col0\" >0</td> \n",
       "        <td id=\"T_f4d1745d_6136_11e8_a85f_e5860ce1c9f7row3_col1\" class=\"data row3 col1\" >0</td> \n",
       "        <td id=\"T_f4d1745d_6136_11e8_a85f_e5860ce1c9f7row3_col2\" class=\"data row3 col2\" >9</td> \n",
       "        <td id=\"T_f4d1745d_6136_11e8_a85f_e5860ce1c9f7row3_col3\" class=\"data row3 col3\" >260</td> \n",
       "        <td id=\"T_f4d1745d_6136_11e8_a85f_e5860ce1c9f7row3_col4\" class=\"data row3 col4\" >0</td> \n",
       "        <td id=\"T_f4d1745d_6136_11e8_a85f_e5860ce1c9f7row3_col5\" class=\"data row3 col5\" >3.5</td> \n",
       "        <td id=\"T_f4d1745d_6136_11e8_a85f_e5860ce1c9f7row3_col6\" class=\"data row3 col6\" >0</td> \n",
       "    </tr>    <tr> \n",
       "        <th id=\"T_f4d1745d_6136_11e8_a85f_e5860ce1c9f7level0_row4\" class=\"row_heading level0 row4\" >4</th> \n",
       "        <td id=\"T_f4d1745d_6136_11e8_a85f_e5860ce1c9f7row4_col0\" class=\"data row4 col0\" >0.5</td> \n",
       "        <td id=\"T_f4d1745d_6136_11e8_a85f_e5860ce1c9f7row4_col1\" class=\"data row4 col1\" >8</td> \n",
       "        <td id=\"T_f4d1745d_6136_11e8_a85f_e5860ce1c9f7row4_col2\" class=\"data row4 col2\" >3</td> \n",
       "        <td id=\"T_f4d1745d_6136_11e8_a85f_e5860ce1c9f7row4_col3\" class=\"data row4 col3\" >0</td> \n",
       "        <td id=\"T_f4d1745d_6136_11e8_a85f_e5860ce1c9f7row4_col4\" class=\"data row4 col4\" >253.5</td> \n",
       "        <td id=\"T_f4d1745d_6136_11e8_a85f_e5860ce1c9f7row4_col5\" class=\"data row4 col5\" >2</td> \n",
       "        <td id=\"T_f4d1745d_6136_11e8_a85f_e5860ce1c9f7row4_col6\" class=\"data row4 col6\" >0</td> \n",
       "    </tr>    <tr> \n",
       "        <th id=\"T_f4d1745d_6136_11e8_a85f_e5860ce1c9f7level0_row5\" class=\"row_heading level0 row5\" >5</th> \n",
       "        <td id=\"T_f4d1745d_6136_11e8_a85f_e5860ce1c9f7row5_col0\" class=\"data row5 col0\" >0</td> \n",
       "        <td id=\"T_f4d1745d_6136_11e8_a85f_e5860ce1c9f7row5_col1\" class=\"data row5 col1\" >1.5</td> \n",
       "        <td id=\"T_f4d1745d_6136_11e8_a85f_e5860ce1c9f7row5_col2\" class=\"data row5 col2\" >27.5</td> \n",
       "        <td id=\"T_f4d1745d_6136_11e8_a85f_e5860ce1c9f7row5_col3\" class=\"data row5 col3\" >6.5</td> \n",
       "        <td id=\"T_f4d1745d_6136_11e8_a85f_e5860ce1c9f7row5_col4\" class=\"data row5 col4\" >1.5</td> \n",
       "        <td id=\"T_f4d1745d_6136_11e8_a85f_e5860ce1c9f7row5_col5\" class=\"data row5 col5\" >247.5</td> \n",
       "        <td id=\"T_f4d1745d_6136_11e8_a85f_e5860ce1c9f7row5_col6\" class=\"data row5 col6\" >0</td> \n",
       "    </tr>    <tr> \n",
       "        <th id=\"T_f4d1745d_6136_11e8_a85f_e5860ce1c9f7level0_row6\" class=\"row_heading level0 row6\" >6</th> \n",
       "        <td id=\"T_f4d1745d_6136_11e8_a85f_e5860ce1c9f7row6_col0\" class=\"data row6 col0\" >7.5</td> \n",
       "        <td id=\"T_f4d1745d_6136_11e8_a85f_e5860ce1c9f7row6_col1\" class=\"data row6 col1\" >0</td> \n",
       "        <td id=\"T_f4d1745d_6136_11e8_a85f_e5860ce1c9f7row6_col2\" class=\"data row6 col2\" >0</td> \n",
       "        <td id=\"T_f4d1745d_6136_11e8_a85f_e5860ce1c9f7row6_col3\" class=\"data row6 col3\" >0</td> \n",
       "        <td id=\"T_f4d1745d_6136_11e8_a85f_e5860ce1c9f7row6_col4\" class=\"data row6 col4\" >0.5</td> \n",
       "        <td id=\"T_f4d1745d_6136_11e8_a85f_e5860ce1c9f7row6_col5\" class=\"data row6 col5\" >0</td> \n",
       "        <td id=\"T_f4d1745d_6136_11e8_a85f_e5860ce1c9f7row6_col6\" class=\"data row6 col6\" >272</td> \n",
       "    </tr></tbody> \n",
       "</table> "
      ],
      "text/plain": [
       "<pandas.io.formats.style.Styler at 0x7fc20fff2450>"
      ]
     },
     "metadata": {},
     "output_type": "display_data"
    }
   ],
   "source": [
    "print(format_classifier_performance(np.mean(cms, axis=0)))\n",
    "#plot_confusion_matrix(cms)\n",
    "df_total, df_class, df_conf = metrics_wrapper.metrics_wrapper(np.mean(cms, axis=0), cover_types, do_display=True)"
   ]
  },
  {
   "cell_type": "markdown",
   "metadata": {},
   "source": [
    "## RandomForest with full dataset (~95%)"
   ]
  },
  {
   "cell_type": "code",
   "execution_count": 16,
   "metadata": {
    "collapsed": false
   },
   "outputs": [
    {
     "name": "stdout",
     "output_type": "stream",
     "text": [
      "Ran Classifier in 43.41 s.\n"
     ]
    }
   ],
   "source": [
    "# There is a slight increase when removing a fraction of 1e-6 compared to 1e-5 (and higher) and the full dataset.\n",
    "# 0.00001\n",
    "#Overall Accuracy: 0.943\n",
    "#Mean Precision:   0.942 +/- 0.016\n",
    "#Mean Recall:      0.865 +/- 0.092\n",
    "#Mean F1 Score:    0.899 +/- 0.053\n",
    "\n",
    "# 0.000001\n",
    "#Overall Accuracy: 0.944\n",
    "#   Mean Precision:   0.944 +/- 0.018\n",
    "#Mean Recall:      0.874 +/- 0.085\n",
    "#   Mean F1 Score:    0.905 +/- 0.049\n",
    "\n",
    "# Full\n",
    "#Overall Accuracy: 0.941\n",
    "#    Mean Precision:   0.932 +/- 0.024\n",
    "#    Mean Recall:      0.873 +/- 0.084\n",
    "#    Mean F1 Score:    0.900 +/- 0.052\n",
    "\n",
    "\n",
    "tic = time.time()\n",
    "cms = cross_validate_classifier(RandomForestClassifier,\n",
    "                               features, labels,\n",
    "                                kfold=2, kwargs={'n_estimators': 50, 'n_jobs': 6})\n",
    "toc = time.time() - tic\n",
    "print('Ran Classifier in {:.2f} s.'.format(toc))"
   ]
  },
  {
   "cell_type": "code",
   "execution_count": 49,
   "metadata": {
    "collapsed": false
   },
   "outputs": [
    {
     "name": "stdout",
     "output_type": "stream",
     "text": [
      "\n",
      "    Overall Accuracy: 0.957\n",
      "    Mean Precision:   0.945 +/- 0.026\n",
      "    Mean Recall:      0.903 +/- 0.067\n",
      "    Mean F1 Score:    0.923 +/- 0.043\n",
      "    \n",
      "Average/overall metrics:\n"
     ]
    },
    {
     "data": {
      "text/html": [
       "<div>\n",
       "<style scoped>\n",
       "    .dataframe tbody tr th:only-of-type {\n",
       "        vertical-align: middle;\n",
       "    }\n",
       "\n",
       "    .dataframe tbody tr th {\n",
       "        vertical-align: top;\n",
       "    }\n",
       "\n",
       "    .dataframe thead th {\n",
       "        text-align: right;\n",
       "    }\n",
       "</style>\n",
       "<table border=\"1\" class=\"dataframe\">\n",
       "  <thead>\n",
       "    <tr style=\"text-align: right;\">\n",
       "      <th></th>\n",
       "      <th>Average F-Meas</th>\n",
       "      <th>Average Precision</th>\n",
       "      <th>Average Recall</th>\n",
       "      <th>Overall Accuracy</th>\n",
       "    </tr>\n",
       "  </thead>\n",
       "  <tbody>\n",
       "    <tr>\n",
       "      <th>Class-Averaged or Overall:</th>\n",
       "      <td>0.92</td>\n",
       "      <td>0.94</td>\n",
       "      <td>0.9</td>\n",
       "      <td>0.96</td>\n",
       "    </tr>\n",
       "  </tbody>\n",
       "</table>\n",
       "</div>"
      ],
      "text/plain": [
       "                            Average F-Meas  Average Precision  Average Recall  \\\n",
       "Class-Averaged or Overall:            0.92               0.94             0.9   \n",
       "\n",
       "                            Overall Accuracy  \n",
       "Class-Averaged or Overall:              0.96  "
      ]
     },
     "metadata": {},
     "output_type": "display_data"
    },
    {
     "name": "stdout",
     "output_type": "stream",
     "text": [
      "Class-specific metrics:\n"
     ]
    },
    {
     "data": {
      "text/html": [
       "<style  type=\"text/css\" >\n",
       "    #T_cc8e65f6_6076_11e8_a85f_e5860ce1c9f7row0_col1 {\n",
       "            color:  blue;\n",
       "        }    #T_cc8e65f6_6076_11e8_a85f_e5860ce1c9f7row0_col2 {\n",
       "            color:  blue;\n",
       "        }    #T_cc8e65f6_6076_11e8_a85f_e5860ce1c9f7row0_col3 {\n",
       "            color:  blue;\n",
       "        }    #T_cc8e65f6_6076_11e8_a85f_e5860ce1c9f7row1_col1 {\n",
       "            color:  blue;\n",
       "        }    #T_cc8e65f6_6076_11e8_a85f_e5860ce1c9f7row1_col2 {\n",
       "            color:  blue;\n",
       "        }    #T_cc8e65f6_6076_11e8_a85f_e5860ce1c9f7row1_col3 {\n",
       "            color:  blue;\n",
       "        }    #T_cc8e65f6_6076_11e8_a85f_e5860ce1c9f7row2_col1 {\n",
       "            color:  blue;\n",
       "        }    #T_cc8e65f6_6076_11e8_a85f_e5860ce1c9f7row2_col2 {\n",
       "            color:  blue;\n",
       "        }    #T_cc8e65f6_6076_11e8_a85f_e5860ce1c9f7row2_col3 {\n",
       "            color:  blue;\n",
       "        }    #T_cc8e65f6_6076_11e8_a85f_e5860ce1c9f7row3_col1 {\n",
       "            color:  blue;\n",
       "        }    #T_cc8e65f6_6076_11e8_a85f_e5860ce1c9f7row3_col2 {\n",
       "            color:  blue;\n",
       "        }    #T_cc8e65f6_6076_11e8_a85f_e5860ce1c9f7row3_col3 {\n",
       "            color:  blue;\n",
       "        }    #T_cc8e65f6_6076_11e8_a85f_e5860ce1c9f7row4_col1 {\n",
       "            color:  blue;\n",
       "        }    #T_cc8e65f6_6076_11e8_a85f_e5860ce1c9f7row4_col2 {\n",
       "            color:  blue;\n",
       "        }    #T_cc8e65f6_6076_11e8_a85f_e5860ce1c9f7row4_col3 {\n",
       "            color:  blue;\n",
       "        }    #T_cc8e65f6_6076_11e8_a85f_e5860ce1c9f7row5_col1 {\n",
       "            color:  blue;\n",
       "        }    #T_cc8e65f6_6076_11e8_a85f_e5860ce1c9f7row5_col2 {\n",
       "            color:  blue;\n",
       "        }    #T_cc8e65f6_6076_11e8_a85f_e5860ce1c9f7row5_col3 {\n",
       "            color:  blue;\n",
       "        }    #T_cc8e65f6_6076_11e8_a85f_e5860ce1c9f7row6_col1 {\n",
       "            color:  blue;\n",
       "        }    #T_cc8e65f6_6076_11e8_a85f_e5860ce1c9f7row6_col2 {\n",
       "            color:  blue;\n",
       "        }    #T_cc8e65f6_6076_11e8_a85f_e5860ce1c9f7row6_col3 {\n",
       "            color:  blue;\n",
       "        }</style>  \n",
       "<table id=\"T_cc8e65f6_6076_11e8_a85f_e5860ce1c9f7\" > \n",
       "<thead>    <tr> \n",
       "        <th class=\"blank level0\" ></th> \n",
       "        <th class=\"col_heading level0 col0\" >Class</th> \n",
       "        <th class=\"col_heading level0 col1\" >F-Meas</th> \n",
       "        <th class=\"col_heading level0 col2\" >Precision</th> \n",
       "        <th class=\"col_heading level0 col3\" >Recall</th> \n",
       "    </tr>    <tr> \n",
       "        <th class=\"index_name level0\" >Confusion Matrix Index</th> \n",
       "        <th class=\"blank\" ></th> \n",
       "        <th class=\"blank\" ></th> \n",
       "        <th class=\"blank\" ></th> \n",
       "        <th class=\"blank\" ></th> \n",
       "    </tr></thead> \n",
       "<tbody>    <tr> \n",
       "        <th id=\"T_cc8e65f6_6076_11e8_a85f_e5860ce1c9f7level0_row0\" class=\"row_heading level0 row0\" >0</th> \n",
       "        <td id=\"T_cc8e65f6_6076_11e8_a85f_e5860ce1c9f7row0_col0\" class=\"data row0 col0\" >Spruce/fir</td> \n",
       "        <td id=\"T_cc8e65f6_6076_11e8_a85f_e5860ce1c9f7row0_col1\" class=\"data row0 col1\" >0.96</td> \n",
       "        <td id=\"T_cc8e65f6_6076_11e8_a85f_e5860ce1c9f7row0_col2\" class=\"data row0 col2\" >0.96</td> \n",
       "        <td id=\"T_cc8e65f6_6076_11e8_a85f_e5860ce1c9f7row0_col3\" class=\"data row0 col3\" >0.95</td> \n",
       "    </tr>    <tr> \n",
       "        <th id=\"T_cc8e65f6_6076_11e8_a85f_e5860ce1c9f7level0_row1\" class=\"row_heading level0 row1\" >1</th> \n",
       "        <td id=\"T_cc8e65f6_6076_11e8_a85f_e5860ce1c9f7row1_col0\" class=\"data row1 col0\" >Lodgepole pine</td> \n",
       "        <td id=\"T_cc8e65f6_6076_11e8_a85f_e5860ce1c9f7row1_col1\" class=\"data row1 col1\" >0.96</td> \n",
       "        <td id=\"T_cc8e65f6_6076_11e8_a85f_e5860ce1c9f7row1_col2\" class=\"data row1 col2\" >0.95</td> \n",
       "        <td id=\"T_cc8e65f6_6076_11e8_a85f_e5860ce1c9f7row1_col3\" class=\"data row1 col3\" >0.97</td> \n",
       "    </tr>    <tr> \n",
       "        <th id=\"T_cc8e65f6_6076_11e8_a85f_e5860ce1c9f7level0_row2\" class=\"row_heading level0 row2\" >2</th> \n",
       "        <td id=\"T_cc8e65f6_6076_11e8_a85f_e5860ce1c9f7row2_col0\" class=\"data row2 col0\" >Ponderosa pine</td> \n",
       "        <td id=\"T_cc8e65f6_6076_11e8_a85f_e5860ce1c9f7row2_col1\" class=\"data row2 col1\" >0.95</td> \n",
       "        <td id=\"T_cc8e65f6_6076_11e8_a85f_e5860ce1c9f7row2_col2\" class=\"data row2 col2\" >0.94</td> \n",
       "        <td id=\"T_cc8e65f6_6076_11e8_a85f_e5860ce1c9f7row2_col3\" class=\"data row2 col3\" >0.95</td> \n",
       "    </tr>    <tr> \n",
       "        <th id=\"T_cc8e65f6_6076_11e8_a85f_e5860ce1c9f7level0_row3\" class=\"row_heading level0 row3\" >3</th> \n",
       "        <td id=\"T_cc8e65f6_6076_11e8_a85f_e5860ce1c9f7row3_col0\" class=\"data row3 col0\" >Cottonwood/willow</td> \n",
       "        <td id=\"T_cc8e65f6_6076_11e8_a85f_e5860ce1c9f7row3_col1\" class=\"data row3 col1\" >0.86</td> \n",
       "        <td id=\"T_cc8e65f6_6076_11e8_a85f_e5860ce1c9f7row3_col2\" class=\"data row3 col2\" >0.9</td> \n",
       "        <td id=\"T_cc8e65f6_6076_11e8_a85f_e5860ce1c9f7row3_col3\" class=\"data row3 col3\" >0.83</td> \n",
       "    </tr>    <tr> \n",
       "        <th id=\"T_cc8e65f6_6076_11e8_a85f_e5860ce1c9f7level0_row4\" class=\"row_heading level0 row4\" >4</th> \n",
       "        <td id=\"T_cc8e65f6_6076_11e8_a85f_e5860ce1c9f7row4_col0\" class=\"data row4 col0\" >Aspen</td> \n",
       "        <td id=\"T_cc8e65f6_6076_11e8_a85f_e5860ce1c9f7row4_col1\" class=\"data row4 col1\" >0.86</td> \n",
       "        <td id=\"T_cc8e65f6_6076_11e8_a85f_e5860ce1c9f7row4_col2\" class=\"data row4 col2\" >0.95</td> \n",
       "        <td id=\"T_cc8e65f6_6076_11e8_a85f_e5860ce1c9f7row4_col3\" class=\"data row4 col3\" >0.78</td> \n",
       "    </tr>    <tr> \n",
       "        <th id=\"T_cc8e65f6_6076_11e8_a85f_e5860ce1c9f7level0_row5\" class=\"row_heading level0 row5\" >5</th> \n",
       "        <td id=\"T_cc8e65f6_6076_11e8_a85f_e5860ce1c9f7row5_col0\" class=\"data row5 col0\" >Douglas-fir</td> \n",
       "        <td id=\"T_cc8e65f6_6076_11e8_a85f_e5860ce1c9f7row5_col1\" class=\"data row5 col1\" >0.91</td> \n",
       "        <td id=\"T_cc8e65f6_6076_11e8_a85f_e5860ce1c9f7row5_col2\" class=\"data row5 col2\" >0.93</td> \n",
       "        <td id=\"T_cc8e65f6_6076_11e8_a85f_e5860ce1c9f7row5_col3\" class=\"data row5 col3\" >0.89</td> \n",
       "    </tr>    <tr> \n",
       "        <th id=\"T_cc8e65f6_6076_11e8_a85f_e5860ce1c9f7level0_row6\" class=\"row_heading level0 row6\" >6</th> \n",
       "        <td id=\"T_cc8e65f6_6076_11e8_a85f_e5860ce1c9f7row6_col0\" class=\"data row6 col0\" >Krummholz</td> \n",
       "        <td id=\"T_cc8e65f6_6076_11e8_a85f_e5860ce1c9f7row6_col1\" class=\"data row6 col1\" >0.96</td> \n",
       "        <td id=\"T_cc8e65f6_6076_11e8_a85f_e5860ce1c9f7row6_col2\" class=\"data row6 col2\" >0.98</td> \n",
       "        <td id=\"T_cc8e65f6_6076_11e8_a85f_e5860ce1c9f7row6_col3\" class=\"data row6 col3\" >0.95</td> \n",
       "    </tr></tbody> \n",
       "</table> "
      ],
      "text/plain": [
       "<pandas.io.formats.style.Styler at 0x7fa2557cbd90>"
      ]
     },
     "metadata": {},
     "output_type": "display_data"
    },
    {
     "name": "stdout",
     "output_type": "stream",
     "text": [
      "Confusion matrix (yellow = col max; red = row max):\n"
     ]
    },
    {
     "data": {
      "text/html": [
       "<style  type=\"text/css\" >\n",
       "    #T_cc8e65f7_6076_11e8_a85f_e5860ce1c9f7row0_col0 {\n",
       "            background-color:  yellow;\n",
       "            color:  red;\n",
       "        }    #T_cc8e65f7_6076_11e8_a85f_e5860ce1c9f7row1_col1 {\n",
       "            background-color:  yellow;\n",
       "            color:  red;\n",
       "        }    #T_cc8e65f7_6076_11e8_a85f_e5860ce1c9f7row2_col2 {\n",
       "            background-color:  yellow;\n",
       "            color:  red;\n",
       "        }    #T_cc8e65f7_6076_11e8_a85f_e5860ce1c9f7row3_col3 {\n",
       "            background-color:  yellow;\n",
       "            color:  red;\n",
       "        }    #T_cc8e65f7_6076_11e8_a85f_e5860ce1c9f7row4_col4 {\n",
       "            background-color:  yellow;\n",
       "            color:  red;\n",
       "        }    #T_cc8e65f7_6076_11e8_a85f_e5860ce1c9f7row5_col5 {\n",
       "            background-color:  yellow;\n",
       "            color:  red;\n",
       "        }    #T_cc8e65f7_6076_11e8_a85f_e5860ce1c9f7row6_col6 {\n",
       "            background-color:  yellow;\n",
       "            color:  red;\n",
       "        }</style>  \n",
       "<table id=\"T_cc8e65f7_6076_11e8_a85f_e5860ce1c9f7\" > \n",
       "<thead>    <tr> \n",
       "        <th class=\"index_name level0\" >Predicted</th> \n",
       "        <th class=\"col_heading level0 col0\" >0</th> \n",
       "        <th class=\"col_heading level0 col1\" >1</th> \n",
       "        <th class=\"col_heading level0 col2\" >2</th> \n",
       "        <th class=\"col_heading level0 col3\" >3</th> \n",
       "        <th class=\"col_heading level0 col4\" >4</th> \n",
       "        <th class=\"col_heading level0 col5\" >5</th> \n",
       "        <th class=\"col_heading level0 col6\" >6</th> \n",
       "    </tr>    <tr> \n",
       "        <th class=\"index_name level0\" >Actual</th> \n",
       "        <th class=\"blank\" ></th> \n",
       "        <th class=\"blank\" ></th> \n",
       "        <th class=\"blank\" ></th> \n",
       "        <th class=\"blank\" ></th> \n",
       "        <th class=\"blank\" ></th> \n",
       "        <th class=\"blank\" ></th> \n",
       "        <th class=\"blank\" ></th> \n",
       "    </tr></thead> \n",
       "<tbody>    <tr> \n",
       "        <th id=\"T_cc8e65f7_6076_11e8_a85f_e5860ce1c9f7level0_row0\" class=\"row_heading level0 row0\" >0</th> \n",
       "        <td id=\"T_cc8e65f7_6076_11e8_a85f_e5860ce1c9f7row0_col0\" class=\"data row0 col0\" >20156.5</td> \n",
       "        <td id=\"T_cc8e65f7_6076_11e8_a85f_e5860ce1c9f7row0_col1\" class=\"data row0 col1\" >964</td> \n",
       "        <td id=\"T_cc8e65f7_6076_11e8_a85f_e5860ce1c9f7row0_col2\" class=\"data row0 col2\" >0</td> \n",
       "        <td id=\"T_cc8e65f7_6076_11e8_a85f_e5860ce1c9f7row0_col3\" class=\"data row0 col3\" >0</td> \n",
       "        <td id=\"T_cc8e65f7_6076_11e8_a85f_e5860ce1c9f7row0_col4\" class=\"data row0 col4\" >2.5</td> \n",
       "        <td id=\"T_cc8e65f7_6076_11e8_a85f_e5860ce1c9f7row0_col5\" class=\"data row0 col5\" >2</td> \n",
       "        <td id=\"T_cc8e65f7_6076_11e8_a85f_e5860ce1c9f7row0_col6\" class=\"data row0 col6\" >30.5</td> \n",
       "    </tr>    <tr> \n",
       "        <th id=\"T_cc8e65f7_6076_11e8_a85f_e5860ce1c9f7level0_row1\" class=\"row_heading level0 row1\" >1</th> \n",
       "        <td id=\"T_cc8e65f7_6076_11e8_a85f_e5860ce1c9f7row1_col0\" class=\"data row1 col0\" >670.5</td> \n",
       "        <td id=\"T_cc8e65f7_6076_11e8_a85f_e5860ce1c9f7row1_col1\" class=\"data row1 col1\" >27571.5</td> \n",
       "        <td id=\"T_cc8e65f7_6076_11e8_a85f_e5860ce1c9f7row1_col2\" class=\"data row1 col2\" >40</td> \n",
       "        <td id=\"T_cc8e65f7_6076_11e8_a85f_e5860ce1c9f7row1_col3\" class=\"data row1 col3\" >1</td> \n",
       "        <td id=\"T_cc8e65f7_6076_11e8_a85f_e5860ce1c9f7row1_col4\" class=\"data row1 col4\" >34</td> \n",
       "        <td id=\"T_cc8e65f7_6076_11e8_a85f_e5860ce1c9f7row1_col5\" class=\"data row1 col5\" >33.5</td> \n",
       "        <td id=\"T_cc8e65f7_6076_11e8_a85f_e5860ce1c9f7row1_col6\" class=\"data row1 col6\" >7.5</td> \n",
       "    </tr>    <tr> \n",
       "        <th id=\"T_cc8e65f7_6076_11e8_a85f_e5860ce1c9f7level0_row2\" class=\"row_heading level0 row2\" >2</th> \n",
       "        <td id=\"T_cc8e65f7_6076_11e8_a85f_e5860ce1c9f7row2_col0\" class=\"data row2 col0\" >0.5</td> \n",
       "        <td id=\"T_cc8e65f7_6076_11e8_a85f_e5860ce1c9f7row2_col1\" class=\"data row2 col1\" >85.5</td> \n",
       "        <td id=\"T_cc8e65f7_6076_11e8_a85f_e5860ce1c9f7row2_col2\" class=\"data row2 col2\" >3380.5</td> \n",
       "        <td id=\"T_cc8e65f7_6076_11e8_a85f_e5860ce1c9f7row2_col3\" class=\"data row2 col3\" >16.5</td> \n",
       "        <td id=\"T_cc8e65f7_6076_11e8_a85f_e5860ce1c9f7row2_col4\" class=\"data row2 col4\" >1.5</td> \n",
       "        <td id=\"T_cc8e65f7_6076_11e8_a85f_e5860ce1c9f7row2_col5\" class=\"data row2 col5\" >73.5</td> \n",
       "        <td id=\"T_cc8e65f7_6076_11e8_a85f_e5860ce1c9f7row2_col6\" class=\"data row2 col6\" >0</td> \n",
       "    </tr>    <tr> \n",
       "        <th id=\"T_cc8e65f7_6076_11e8_a85f_e5860ce1c9f7level0_row3\" class=\"row_heading level0 row3\" >3</th> \n",
       "        <td id=\"T_cc8e65f7_6076_11e8_a85f_e5860ce1c9f7row3_col0\" class=\"data row3 col0\" >0</td> \n",
       "        <td id=\"T_cc8e65f7_6076_11e8_a85f_e5860ce1c9f7row3_col1\" class=\"data row3 col1\" >0</td> \n",
       "        <td id=\"T_cc8e65f7_6076_11e8_a85f_e5860ce1c9f7row3_col2\" class=\"data row3 col2\" >34.5</td> \n",
       "        <td id=\"T_cc8e65f7_6076_11e8_a85f_e5860ce1c9f7row3_col3\" class=\"data row3 col3\" >227.5</td> \n",
       "        <td id=\"T_cc8e65f7_6076_11e8_a85f_e5860ce1c9f7row3_col4\" class=\"data row3 col4\" >0</td> \n",
       "        <td id=\"T_cc8e65f7_6076_11e8_a85f_e5860ce1c9f7row3_col5\" class=\"data row3 col5\" >12</td> \n",
       "        <td id=\"T_cc8e65f7_6076_11e8_a85f_e5860ce1c9f7row3_col6\" class=\"data row3 col6\" >0</td> \n",
       "    </tr>    <tr> \n",
       "        <th id=\"T_cc8e65f7_6076_11e8_a85f_e5860ce1c9f7level0_row4\" class=\"row_heading level0 row4\" >4</th> \n",
       "        <td id=\"T_cc8e65f7_6076_11e8_a85f_e5860ce1c9f7row4_col0\" class=\"data row4 col0\" >9</td> \n",
       "        <td id=\"T_cc8e65f7_6076_11e8_a85f_e5860ce1c9f7row4_col1\" class=\"data row4 col1\" >188.5</td> \n",
       "        <td id=\"T_cc8e65f7_6076_11e8_a85f_e5860ce1c9f7row4_col2\" class=\"data row4 col2\" >10.5</td> \n",
       "        <td id=\"T_cc8e65f7_6076_11e8_a85f_e5860ce1c9f7row4_col3\" class=\"data row4 col3\" >0</td> \n",
       "        <td id=\"T_cc8e65f7_6076_11e8_a85f_e5860ce1c9f7row4_col4\" class=\"data row4 col4\" >760.5</td> \n",
       "        <td id=\"T_cc8e65f7_6076_11e8_a85f_e5860ce1c9f7row4_col5\" class=\"data row4 col5\" >3</td> \n",
       "        <td id=\"T_cc8e65f7_6076_11e8_a85f_e5860ce1c9f7row4_col6\" class=\"data row4 col6\" >0</td> \n",
       "    </tr>    <tr> \n",
       "        <th id=\"T_cc8e65f7_6076_11e8_a85f_e5860ce1c9f7level0_row5\" class=\"row_heading level0 row5\" >5</th> \n",
       "        <td id=\"T_cc8e65f7_6076_11e8_a85f_e5860ce1c9f7row5_col0\" class=\"data row5 col0\" >2</td> \n",
       "        <td id=\"T_cc8e65f7_6076_11e8_a85f_e5860ce1c9f7row5_col1\" class=\"data row5 col1\" >62.5</td> \n",
       "        <td id=\"T_cc8e65f7_6076_11e8_a85f_e5860ce1c9f7row5_col2\" class=\"data row5 col2\" >117.5</td> \n",
       "        <td id=\"T_cc8e65f7_6076_11e8_a85f_e5860ce1c9f7row5_col3\" class=\"data row5 col3\" >9</td> \n",
       "        <td id=\"T_cc8e65f7_6076_11e8_a85f_e5860ce1c9f7row5_col4\" class=\"data row5 col4\" >0</td> \n",
       "        <td id=\"T_cc8e65f7_6076_11e8_a85f_e5860ce1c9f7row5_col5\" class=\"data row5 col5\" >1531.5</td> \n",
       "        <td id=\"T_cc8e65f7_6076_11e8_a85f_e5860ce1c9f7row5_col6\" class=\"data row5 col6\" >0</td> \n",
       "    </tr>    <tr> \n",
       "        <th id=\"T_cc8e65f7_6076_11e8_a85f_e5860ce1c9f7level0_row6\" class=\"row_heading level0 row6\" >6</th> \n",
       "        <td id=\"T_cc8e65f7_6076_11e8_a85f_e5860ce1c9f7row6_col0\" class=\"data row6 col0\" >98.5</td> \n",
       "        <td id=\"T_cc8e65f7_6076_11e8_a85f_e5860ce1c9f7row6_col1\" class=\"data row6 col1\" >14</td> \n",
       "        <td id=\"T_cc8e65f7_6076_11e8_a85f_e5860ce1c9f7row6_col2\" class=\"data row6 col2\" >0</td> \n",
       "        <td id=\"T_cc8e65f7_6076_11e8_a85f_e5860ce1c9f7row6_col3\" class=\"data row6 col3\" >0</td> \n",
       "        <td id=\"T_cc8e65f7_6076_11e8_a85f_e5860ce1c9f7row6_col4\" class=\"data row6 col4\" >0.5</td> \n",
       "        <td id=\"T_cc8e65f7_6076_11e8_a85f_e5860ce1c9f7row6_col5\" class=\"data row6 col5\" >0</td> \n",
       "        <td id=\"T_cc8e65f7_6076_11e8_a85f_e5860ce1c9f7row6_col6\" class=\"data row6 col6\" >1949.5</td> \n",
       "    </tr></tbody> \n",
       "</table> "
      ],
      "text/plain": [
       "<pandas.io.formats.style.Styler at 0x7fa261e40590>"
      ]
     },
     "metadata": {},
     "output_type": "display_data"
    }
   ],
   "source": [
    "print(format_classifier_performance(np.mean(cms, axis=0)))\n",
    "#plot_confusion_matrix(cms)\n",
    "df_total, df_class, df_conf = metrics_wrapper.metrics_wrapper(np.mean(cms, axis=0), cover_types, do_display=True)"
   ]
  },
  {
   "cell_type": "code",
   "execution_count": null,
   "metadata": {
    "collapsed": true
   },
   "outputs": [],
   "source": []
  }
 ],
 "metadata": {
  "kernelspec": {
   "display_name": "Python 3",
   "language": "python",
   "name": "python3"
  },
  "language_info": {
   "codemirror_mode": {
    "name": "ipython",
    "version": 3
   },
   "file_extension": ".py",
   "mimetype": "text/x-python",
   "name": "python",
   "nbconvert_exporter": "python",
   "pygments_lexer": "ipython3",
   "version": "3.5.4"
  }
 },
 "nbformat": 4,
 "nbformat_minor": 2
}
