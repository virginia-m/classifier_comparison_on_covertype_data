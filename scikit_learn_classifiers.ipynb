{
 "cells": [
  {
   "cell_type": "markdown",
   "metadata": {},
   "source": [
    "# Simple tests\n",
    "\n",
    "This notebook contains some simple code for testing the performance of scikit-learn classifiers."
   ]
  },
  {
   "cell_type": "code",
   "execution_count": 1,
   "metadata": {},
   "outputs": [
    {
     "name": "stderr",
     "output_type": "stream",
     "text": [
      "/home/virginia/.local/lib/python2.7/site-packages/scipy/spatial/__init__.py:96: ImportWarning: Not importing directory '/home/virginia/.local/lib/python2.7/site-packages/scipy/spatial/qhull': missing __init__.py\n",
      "  from .qhull import *\n"
     ]
    }
   ],
   "source": [
    "from __future__ import division, print_function\n",
    "import time\n",
    "import pickle\n",
    "import warnings\n",
    "warnings.filterwarnings('default')\n",
    "\n",
    "import numpy as np\n",
    "import matplotlib.pyplot as plt\n",
    "from matplotlib.gridspec import GridSpec\n",
    "from scipy import ndimage"
   ]
  },
  {
   "cell_type": "markdown",
   "metadata": {},
   "source": [
    "### Evaluation metrics\n",
    "\n",
    "In the cell below we define a bunch of functions that help evaluate a classifier by calculating confusion matrices and by implementing cross-validation."
   ]
  },
  {
   "cell_type": "code",
   "execution_count": 2,
   "metadata": {},
   "outputs": [],
   "source": [
    "def construct_confusion_matrix(actual, predicted, dim=10):\n",
    "    '''\n",
    "        This function constructs the confusion matrix for a given input\n",
    "        of actual and predicted class vectors with integers as class labels.\n",
    "        \n",
    "        Parameters\n",
    "        ----------------------\n",
    "        actual : array, dtype int\n",
    "            A 1D row vector of length N containing the actual class labels\n",
    "        \n",
    "        predicted : array, dtype int\n",
    "            A 1D row vector of length N containing the predicted class labels\n",
    "        \n",
    "        dim : integer\n",
    "            The (one-axis) size of the confusion matrix. This will depend on how\n",
    "            many classes there are in the data.\n",
    "            \n",
    "        Returns\n",
    "        ----------------------\n",
    "        confusion_matrix : array\n",
    "            The confusion matrix constructed from actual and predicted class\n",
    "            labels with dimension (N, N).\n",
    "    '''\n",
    "    confusion_matrix = np.zeros((dim, dim))\n",
    "    for row, col in zip(actual, predicted):\n",
    "        confusion_matrix[row, col] += 1\n",
    "    return confusion_matrix\n",
    "\n",
    "def plot_confusion_matrix(confusion_matrices):\n",
    "    '''\n",
    "        This function plots the 2D confusion matrix for a given input confusion\n",
    "        matrix. This can be a single or multiple matrices.\n",
    "        \n",
    "        Parameters\n",
    "        ----------------------\n",
    "        confusion_matrices : list\n",
    "            Python list containing a set of confusion matrices.\n",
    "            \n",
    "        Returns\n",
    "        ----------------------\n",
    "        fig : matplotlib figure\n",
    "            The matplotlib figure instance on which the confusion matrix has been\n",
    "            plotted.\n",
    "    '''\n",
    "    num_plots = len(confusion_matrices)\n",
    "    \n",
    "    fig = plt.figure(figsize=(15, 7.5))\n",
    "    gs = GridSpec(1, num_plots)\n",
    "    \n",
    "    for i in range(num_plots):\n",
    "        ax = plt.subplot(gs[0, i])\n",
    "        confusion_matrix = confusion_matrices[i]\n",
    "        ax.imshow(confusion_matrix, vmin=0)\n",
    "        \n",
    "    return fig\n",
    "\n",
    "def evaluate_classifier_predictions(confusion_matrix):\n",
    "    \"\"\"\n",
    "        This function takes the confusion matrix generated from a classifier prediction\n",
    "        and calculates relevant performance metrics: accuracy, precision, recall and the\n",
    "        f1 score.\n",
    "        \n",
    "        Parameters\n",
    "        ----------------------\n",
    "        confusion_matrix : array\n",
    "            The confusion matrix for a classifier prediction.\n",
    "            \n",
    "        Returns\n",
    "        ----------------------\n",
    "        accuracy : number\n",
    "            The accuracy of the predictions.\n",
    "        \n",
    "        precision, recall, f1_score : array\n",
    "            1D row vectors containing the precision, recall and F1 scores of the predictions.\n",
    "            \n",
    "        Note\n",
    "        ----------------------\n",
    "        When calculating precision and recall, we subsitute zero-count values with small\n",
    "        numbers to avoid division by zeros.\n",
    "        \n",
    "    \"\"\"\n",
    "    c = np.copy(confusion_matrix)\n",
    "    diag = np.diagonal(c)\n",
    "\n",
    "    # Accuracy: number of correct predictions over total number of points (overall metric)\n",
    "    accuracy = np.sum(diag) / np.sum(c)\n",
    "    \n",
    "    # Precision: number of correct predictions over total number of predictions for this class\n",
    "    c_sum = np.sum(c, axis=0)\n",
    "    c_sum[c_sum == 0] = 1e-20\n",
    "    precision = diag / c_sum\n",
    "    \n",
    "    # Recall: number of correct predictions over number of occurrences of this prediction\n",
    "    r_sum = np.sum(c, axis=1)\n",
    "    r_sum[r_sum == 0] = 1e-20\n",
    "    recall = diag / r_sum\n",
    "    \n",
    "    # F1 score: harmonic mean (centre of mass) between recall and precision\n",
    "    f1_score = precision * recall / (precision + recall) * 2\n",
    "    \n",
    "    return accuracy, precision, recall, f1_score\n",
    "\n",
    "\n",
    "def format_classifier_performance(confusion_matrix):\n",
    "    \"\"\"\n",
    "        This function formats the mean classifier performance by calling the\n",
    "        *evaluate_classifier_predictions* function with a given confusion matrix.\n",
    "    \"\"\"\n",
    "    results = \"\"\"\n",
    "    Overall Accuracy: {:.3f}\n",
    "    Mean Precision:   {:.3f} +/- {:.3f}\n",
    "    Mean Recall:      {:.3f} +/- {:.3f}\n",
    "    Mean F1 Score:    {:.3f} +/- {:.3f}\n",
    "    \"\"\"\n",
    "    \n",
    "    a, p, r, f = evaluate_classifier_predictions(confusion_matrix)\n",
    "    return results.format(a, np.mean(p), np.std(p), np.mean(r), np.std(r), np.mean(f), np.std(f))\n",
    "\n",
    "\n",
    "def generate_cross_validation_datasets(full_data, labels, kfold=10, training_percentage=0.9):\n",
    "    \"\"\"\n",
    "        This function generates a number of splitted datasets for training and validation\n",
    "        using an input dataset.\n",
    "        \n",
    "        Parameters\n",
    "        ----------------------\n",
    "        full_data : sparse array\n",
    "            The dataset from which to draw samples for training and validation.\n",
    "            \n",
    "        kfold : integer\n",
    "            The number of k-folds in the cross-validation. This determines how many\n",
    "            datasets are produced.\n",
    "        \n",
    "        training_percentage : number\n",
    "            The splitting ratio between training and validation data.\n",
    "            \n",
    "        Returns\n",
    "        ----------------------\n",
    "        datasets : list\n",
    "            A Python list containing two-element lists with training and validation\n",
    "            datasets, stored in numpy arrays.\n",
    "        \n",
    "        \n",
    "    \"\"\"\n",
    "    num_rows = full_data.shape[0]\n",
    "    row_indices = np.arange(num_rows)\n",
    "    split_row = int(num_rows * training_percentage)\n",
    "    \n",
    "    # Create an empty list to hold pairs of training and validation data\n",
    "    datasets = []\n",
    "    for i in range(kfold):\n",
    "        # Generate a random shuffle of the row indices.\n",
    "        # Note: this operation shuffles in place.\n",
    "        np.random.shuffle(row_indices)\n",
    "        # Get the training and validation rows\n",
    "        training_rows, validation_rows = np.split(row_indices, [split_row])\n",
    "        \n",
    "        # Now extract the training and validation rows from the input datset:\n",
    "        training_data, validation_data = [], []\n",
    "        for dataset, rows in zip([training_data, validation_data], [training_rows, validation_rows]):\n",
    "            for row in rows:\n",
    "                dataset.append(full_data[row, :])\n",
    "            \n",
    "        datasets.append(\n",
    "            [labels[training_rows], np.vstack(training_data),\n",
    "             labels[validation_rows], np.vstack(validation_data)])\n",
    "    \n",
    "    return datasets\n",
    "\n",
    "def cross_validate_classifier(classifier, full_data, labels, kfold=10, training_percentage=0.9, kwargs=None,\n",
    "                              average_fits=True, fit_percentage=0.9):\n",
    "    \"\"\"\n",
    "        This function evaluates a classifier using k-fold cross-validation\n",
    "        on a given dataset and by calculating confusion matrices for each fold.\n",
    "        \n",
    "        This function generates a number of splitted datasets for training and validation\n",
    "        using an input (sparse) dataset.\n",
    "        \n",
    "        Parameters\n",
    "        ----------------------\n",
    "        classifier : Classifier instance\n",
    "            An instance of a classifier class that contains two methods named *fit* and\n",
    "            *predict*, abiding to scikit-learn naming conventions.\n",
    "        \n",
    "        full_data : sparse array\n",
    "            The dataset from which to draw samples for training and validation.\n",
    "        \n",
    "        kfold : integer, optional\n",
    "            The number of k-folds in the cross-validation.\n",
    "        \n",
    "        training_percentage : number, optional\n",
    "            The splitting ratio between training and validation data.\n",
    "            \n",
    "        kwargs : dictionary, optional\n",
    "            A dictionary with keyword arguments to be passed to the classifier's\n",
    "            constructor. Defaults to None.\n",
    "            \n",
    "            \n",
    "        Returns\n",
    "        ----------------------\n",
    "        confusion_matrices : list\n",
    "            Python list containing the confusion matrices for each fold in the cross-validation.\n",
    "    \"\"\"\n",
    "    if kwargs is None:\n",
    "        kwargs = {}\n",
    "    _classifier = classifier(**kwargs)\n",
    "    \n",
    "    datasets = generate_cross_validation_datasets(full_data, labels, kfold, training_percentage)\n",
    "    \n",
    "    confusion_matrices = []\n",
    "    for (train_labels, train_data, validation_labels, validation_data) in datasets:\n",
    "        # Fit the classifier using the training data, then predict using the validation data.\n",
    "        _classifier = _classifier.fit(train_data, train_labels)\n",
    "        predictions = _classifier.predict(validation_data)\n",
    "            \n",
    "        confusion_matrix = construct_confusion_matrix(validation_labels, predictions)\n",
    "        confusion_matrices.append(confusion_matrix)\n",
    "    \n",
    "    return confusion_matrices"
   ]
  },
  {
   "cell_type": "markdown",
   "metadata": {},
   "source": [
    "### Load some sample data\n"
   ]
  },
  {
   "cell_type": "code",
   "execution_count": 6,
   "metadata": {},
   "outputs": [
    {
     "name": "stdout",
     "output_type": "stream",
     "text": [
      "Dataset dimensions: training - (150, 4), validation - (150,).\n"
     ]
    }
   ],
   "source": [
    "from sklearn.datasets import load_iris\n",
    "\n",
    "X, y = load_iris(return_X_y=True)\n",
    "\n",
    "print('Dataset dimensions: training - {}, validation - {}.'.format(X.shape, y.shape))"
   ]
  },
  {
   "cell_type": "code",
   "execution_count": 7,
   "metadata": {},
   "outputs": [
    {
     "name": "stderr",
     "output_type": "stream",
     "text": [
      "WARNING (theano.tensor.blas): Using NumPy C-API based implementation for BLAS functions.\n",
      "/home/virginia/.local/lib/python2.7/site-packages/sklearn/cross_validation.py:41: DeprecationWarning: This module was deprecated in version 0.18 in favor of the model_selection module into which all the refactored classes and functions are moved. Also note that the interface of the new CV iterators are different from that of this module. This module will be removed in 0.20.\n",
      "  \"This module will be removed in 0.20.\", DeprecationWarning)\n"
     ]
    },
    {
     "ename": "ImportError",
     "evalue": "cannot import name downsample",
     "output_type": "error",
     "traceback": [
      "\u001b[0;31m---------------------------------------------------------------------------\u001b[0m",
      "\u001b[0;31mImportError\u001b[0m                               Traceback (most recent call last)",
      "\u001b[0;32m<ipython-input-7-7c4194768df4>\u001b[0m in \u001b[0;36m<module>\u001b[0;34m()\u001b[0m\n\u001b[1;32m      6\u001b[0m     \u001b[0mlearning_rate\u001b[0m\u001b[0;34m=\u001b[0m\u001b[0;36m0.02\u001b[0m\u001b[0;34m,\u001b[0m\u001b[0;34m\u001b[0m\u001b[0m\n\u001b[1;32m      7\u001b[0m     n_iter=10)\n\u001b[0;32m----> 8\u001b[0;31m \u001b[0mnn\u001b[0m\u001b[0;34m.\u001b[0m\u001b[0mfit\u001b[0m\u001b[0;34m(\u001b[0m\u001b[0mX\u001b[0m\u001b[0;34m,\u001b[0m \u001b[0my\u001b[0m\u001b[0;34m)\u001b[0m\u001b[0;34m\u001b[0m\u001b[0m\n\u001b[0m",
      "\u001b[0;32m/home/virginia/.local/lib/python2.7/site-packages/sknn/mlp.pyc\u001b[0m in \u001b[0;36mfit\u001b[0;34m(self, X, y, w)\u001b[0m\n\u001b[1;32m    298\u001b[0m             \u001b[0mself\u001b[0m\u001b[0;34m.\u001b[0m\u001b[0mvalid_set\u001b[0m \u001b[0;34m=\u001b[0m \u001b[0mself\u001b[0m\u001b[0;34m.\u001b[0m\u001b[0m_reshape\u001b[0m\u001b[0;34m(\u001b[0m\u001b[0;34m*\u001b[0m\u001b[0mself\u001b[0m\u001b[0;34m.\u001b[0m\u001b[0mvalid_set\u001b[0m\u001b[0;34m)\u001b[0m\u001b[0;34m\u001b[0m\u001b[0m\n\u001b[1;32m    299\u001b[0m \u001b[0;34m\u001b[0m\u001b[0m\n\u001b[0;32m--> 300\u001b[0;31m         \u001b[0;32mreturn\u001b[0m \u001b[0msuper\u001b[0m\u001b[0;34m(\u001b[0m\u001b[0mRegressor\u001b[0m\u001b[0;34m,\u001b[0m \u001b[0mself\u001b[0m\u001b[0;34m)\u001b[0m\u001b[0;34m.\u001b[0m\u001b[0m_fit\u001b[0m\u001b[0;34m(\u001b[0m\u001b[0mX\u001b[0m\u001b[0;34m,\u001b[0m \u001b[0my\u001b[0m\u001b[0;34m,\u001b[0m \u001b[0mw\u001b[0m\u001b[0;34m)\u001b[0m\u001b[0;34m\u001b[0m\u001b[0m\n\u001b[0m\u001b[1;32m    301\u001b[0m \u001b[0;34m\u001b[0m\u001b[0m\n\u001b[1;32m    302\u001b[0m     \u001b[0;32mdef\u001b[0m \u001b[0mpredict\u001b[0m\u001b[0;34m(\u001b[0m\u001b[0mself\u001b[0m\u001b[0;34m,\u001b[0m \u001b[0mX\u001b[0m\u001b[0;34m)\u001b[0m\u001b[0;34m:\u001b[0m\u001b[0;34m\u001b[0m\u001b[0m\n",
      "\u001b[0;32m/home/virginia/.local/lib/python2.7/site-packages/sknn/mlp.pyc\u001b[0m in \u001b[0;36m_fit\u001b[0;34m(self, X, y, w)\u001b[0m\n\u001b[1;32m    211\u001b[0m \u001b[0;34m\u001b[0m\u001b[0m\n\u001b[1;32m    212\u001b[0m         \u001b[0;32mif\u001b[0m \u001b[0;32mnot\u001b[0m \u001b[0mself\u001b[0m\u001b[0;34m.\u001b[0m\u001b[0mis_initialized\u001b[0m\u001b[0;34m:\u001b[0m\u001b[0;34m\u001b[0m\u001b[0m\n\u001b[0;32m--> 213\u001b[0;31m             \u001b[0mX\u001b[0m\u001b[0;34m,\u001b[0m \u001b[0my\u001b[0m \u001b[0;34m=\u001b[0m \u001b[0mself\u001b[0m\u001b[0;34m.\u001b[0m\u001b[0m_initialize\u001b[0m\u001b[0;34m(\u001b[0m\u001b[0mX\u001b[0m\u001b[0;34m,\u001b[0m \u001b[0my\u001b[0m\u001b[0;34m,\u001b[0m \u001b[0mw\u001b[0m\u001b[0;34m)\u001b[0m\u001b[0;34m\u001b[0m\u001b[0m\n\u001b[0m\u001b[1;32m    214\u001b[0m \u001b[0;34m\u001b[0m\u001b[0m\n\u001b[1;32m    215\u001b[0m         \u001b[0mlog\u001b[0m\u001b[0;34m.\u001b[0m\u001b[0minfo\u001b[0m\u001b[0;34m(\u001b[0m\u001b[0;34m\"Training on dataset of {:,} samples with {} total size.\"\u001b[0m\u001b[0;34m.\u001b[0m\u001b[0mformat\u001b[0m\u001b[0;34m(\u001b[0m\u001b[0mdata_shape\u001b[0m\u001b[0;34m[\u001b[0m\u001b[0;36m0\u001b[0m\u001b[0;34m]\u001b[0m\u001b[0;34m,\u001b[0m \u001b[0mdata_size\u001b[0m\u001b[0;34m)\u001b[0m\u001b[0;34m)\u001b[0m\u001b[0;34m\u001b[0m\u001b[0m\n",
      "\u001b[0;32m/home/virginia/.local/lib/python2.7/site-packages/sknn/mlp.pyc\u001b[0m in \u001b[0;36m_initialize\u001b[0;34m(self, X, y, w)\u001b[0m\n\u001b[1;32m     38\u001b[0m         \u001b[0mself\u001b[0m\u001b[0;34m.\u001b[0m\u001b[0m_create_specs\u001b[0m\u001b[0;34m(\u001b[0m\u001b[0mX\u001b[0m\u001b[0;34m,\u001b[0m \u001b[0my\u001b[0m\u001b[0;34m)\u001b[0m\u001b[0;34m\u001b[0m\u001b[0m\n\u001b[1;32m     39\u001b[0m \u001b[0;34m\u001b[0m\u001b[0m\n\u001b[0;32m---> 40\u001b[0;31m         \u001b[0mbackend\u001b[0m\u001b[0;34m.\u001b[0m\u001b[0msetup\u001b[0m\u001b[0;34m(\u001b[0m\u001b[0;34m)\u001b[0m\u001b[0;34m\u001b[0m\u001b[0m\n\u001b[0m\u001b[1;32m     41\u001b[0m         \u001b[0mself\u001b[0m\u001b[0;34m.\u001b[0m\u001b[0m_backend\u001b[0m \u001b[0;34m=\u001b[0m \u001b[0mbackend\u001b[0m\u001b[0;34m.\u001b[0m\u001b[0mMultiLayerPerceptronBackend\u001b[0m\u001b[0;34m(\u001b[0m\u001b[0mself\u001b[0m\u001b[0;34m)\u001b[0m\u001b[0;34m\u001b[0m\u001b[0m\n\u001b[1;32m     42\u001b[0m         \u001b[0;32mreturn\u001b[0m \u001b[0mself\u001b[0m\u001b[0;34m.\u001b[0m\u001b[0m_backend\u001b[0m\u001b[0;34m.\u001b[0m\u001b[0m_initialize_impl\u001b[0m\u001b[0;34m(\u001b[0m\u001b[0mX\u001b[0m\u001b[0;34m,\u001b[0m \u001b[0my\u001b[0m\u001b[0;34m,\u001b[0m \u001b[0mw\u001b[0m\u001b[0;34m)\u001b[0m\u001b[0;34m\u001b[0m\u001b[0m\n",
      "\u001b[0;32m/home/virginia/.local/lib/python2.7/site-packages/sknn/backend/__init__.pyc\u001b[0m in \u001b[0;36msetup\u001b[0;34m()\u001b[0m\n\u001b[1;32m     22\u001b[0m \u001b[0;32mdef\u001b[0m \u001b[0msetup\u001b[0m\u001b[0;34m(\u001b[0m\u001b[0;34m)\u001b[0m\u001b[0;34m:\u001b[0m\u001b[0;34m\u001b[0m\u001b[0m\n\u001b[1;32m     23\u001b[0m     \u001b[0;32mif\u001b[0m \u001b[0mname\u001b[0m \u001b[0;34m==\u001b[0m \u001b[0mNone\u001b[0m\u001b[0;34m:\u001b[0m\u001b[0;34m\u001b[0m\u001b[0m\n\u001b[0;32m---> 24\u001b[0;31m         \u001b[0;32mfrom\u001b[0m \u001b[0;34m.\u001b[0m \u001b[0;32mimport\u001b[0m \u001b[0mlasagne\u001b[0m\u001b[0;34m\u001b[0m\u001b[0m\n\u001b[0m\u001b[1;32m     25\u001b[0m     \u001b[0;32massert\u001b[0m \u001b[0mname\u001b[0m \u001b[0;32mis\u001b[0m \u001b[0;32mnot\u001b[0m \u001b[0mNone\u001b[0m\u001b[0;34m,\u001b[0m \u001b[0;34m\"No backend for module sknn was imported.\"\u001b[0m\u001b[0;34m\u001b[0m\u001b[0m\n",
      "\u001b[0;32m/home/virginia/.local/lib/python2.7/site-packages/sknn/backend/lasagne/__init__.py\u001b[0m in \u001b[0;36m<module>\u001b[0;34m()\u001b[0m\n\u001b[1;32m      3\u001b[0m \u001b[0;34m\u001b[0m\u001b[0m\n\u001b[1;32m      4\u001b[0m \u001b[0;32mfrom\u001b[0m \u001b[0;34m.\u001b[0m\u001b[0;34m.\u001b[0m\u001b[0;34m.\u001b[0m \u001b[0;32mimport\u001b[0m \u001b[0mbackend\u001b[0m\u001b[0;34m\u001b[0m\u001b[0m\n\u001b[0;32m----> 5\u001b[0;31m \u001b[0;32mfrom\u001b[0m \u001b[0;34m.\u001b[0m\u001b[0mmlp\u001b[0m \u001b[0;32mimport\u001b[0m \u001b[0mMultiLayerPerceptronBackend\u001b[0m\u001b[0;34m\u001b[0m\u001b[0m\n\u001b[0m\u001b[1;32m      6\u001b[0m \u001b[0;34m\u001b[0m\u001b[0m\n\u001b[1;32m      7\u001b[0m \u001b[0;31m# Register this implementation as the MLP backend.\u001b[0m\u001b[0;34m\u001b[0m\u001b[0;34m\u001b[0m\u001b[0m\n",
      "\u001b[0;32m/home/virginia/.local/lib/python2.7/site-packages/sknn/backend/lasagne/mlp.py\u001b[0m in \u001b[0;36m<module>\u001b[0;34m()\u001b[0m\n\u001b[1;32m     23\u001b[0m \u001b[0;34m\u001b[0m\u001b[0m\n\u001b[1;32m     24\u001b[0m \u001b[0;32mimport\u001b[0m \u001b[0mtheano\u001b[0m\u001b[0;34m.\u001b[0m\u001b[0mtensor\u001b[0m \u001b[0;32mas\u001b[0m \u001b[0mT\u001b[0m\u001b[0;34m\u001b[0m\u001b[0m\n\u001b[0;32m---> 25\u001b[0;31m \u001b[0;32mimport\u001b[0m \u001b[0mlasagne\u001b[0m\u001b[0;34m.\u001b[0m\u001b[0mlayers\u001b[0m\u001b[0;34m\u001b[0m\u001b[0m\n\u001b[0m\u001b[1;32m     26\u001b[0m \u001b[0;32mimport\u001b[0m \u001b[0mlasagne\u001b[0m\u001b[0;34m.\u001b[0m\u001b[0mnonlinearities\u001b[0m \u001b[0;32mas\u001b[0m \u001b[0mnl\u001b[0m\u001b[0;34m\u001b[0m\u001b[0m\n\u001b[1;32m     27\u001b[0m \u001b[0;34m\u001b[0m\u001b[0m\n",
      "\u001b[0;32m/home/virginia/.local/lib/python2.7/site-packages/lasagne/__init__.py\u001b[0m in \u001b[0;36m<module>\u001b[0;34m()\u001b[0m\n\u001b[1;32m     23\u001b[0m \u001b[0;32mimport\u001b[0m \u001b[0mnonlinearities\u001b[0m\u001b[0;34m\u001b[0m\u001b[0m\n\u001b[1;32m     24\u001b[0m \u001b[0;32mimport\u001b[0m \u001b[0minit\u001b[0m\u001b[0;34m\u001b[0m\u001b[0m\n\u001b[0;32m---> 25\u001b[0;31m \u001b[0;32mimport\u001b[0m \u001b[0mlayers\u001b[0m\u001b[0;34m\u001b[0m\u001b[0m\n\u001b[0m\u001b[1;32m     26\u001b[0m \u001b[0;32mimport\u001b[0m \u001b[0mobjectives\u001b[0m\u001b[0;34m\u001b[0m\u001b[0m\n\u001b[1;32m     27\u001b[0m \u001b[0;32mimport\u001b[0m \u001b[0mrandom\u001b[0m\u001b[0;34m\u001b[0m\u001b[0m\n",
      "\u001b[0;32m/home/virginia/.local/lib/python2.7/site-packages/lasagne/layers/__init__.py\u001b[0m in \u001b[0;36m<module>\u001b[0;34m()\u001b[0m\n\u001b[1;32m      5\u001b[0m \u001b[0;32mfrom\u001b[0m \u001b[0;34m.\u001b[0m\u001b[0mnoise\u001b[0m \u001b[0;32mimport\u001b[0m \u001b[0;34m*\u001b[0m\u001b[0;34m\u001b[0m\u001b[0m\n\u001b[1;32m      6\u001b[0m \u001b[0;32mfrom\u001b[0m \u001b[0;34m.\u001b[0m\u001b[0mconv\u001b[0m \u001b[0;32mimport\u001b[0m \u001b[0;34m*\u001b[0m\u001b[0;34m\u001b[0m\u001b[0m\n\u001b[0;32m----> 7\u001b[0;31m \u001b[0;32mfrom\u001b[0m \u001b[0;34m.\u001b[0m\u001b[0mpool\u001b[0m \u001b[0;32mimport\u001b[0m \u001b[0;34m*\u001b[0m\u001b[0;34m\u001b[0m\u001b[0m\n\u001b[0m\u001b[1;32m      8\u001b[0m \u001b[0;32mfrom\u001b[0m \u001b[0;34m.\u001b[0m\u001b[0mshape\u001b[0m \u001b[0;32mimport\u001b[0m \u001b[0;34m*\u001b[0m\u001b[0;34m\u001b[0m\u001b[0m\n\u001b[1;32m      9\u001b[0m \u001b[0;32mfrom\u001b[0m \u001b[0;34m.\u001b[0m\u001b[0mmerge\u001b[0m \u001b[0;32mimport\u001b[0m \u001b[0;34m*\u001b[0m\u001b[0;34m\u001b[0m\u001b[0m\n",
      "\u001b[0;32m/home/virginia/.local/lib/python2.7/site-packages/lasagne/layers/pool.py\u001b[0m in \u001b[0;36m<module>\u001b[0;34m()\u001b[0m\n\u001b[1;32m      4\u001b[0m \u001b[0;32mfrom\u001b[0m \u001b[0mlasagne\u001b[0m\u001b[0;34m.\u001b[0m\u001b[0mutils\u001b[0m \u001b[0;32mimport\u001b[0m \u001b[0mas_tuple\u001b[0m\u001b[0;34m\u001b[0m\u001b[0m\n\u001b[1;32m      5\u001b[0m \u001b[0;34m\u001b[0m\u001b[0m\n\u001b[0;32m----> 6\u001b[0;31m \u001b[0;32mfrom\u001b[0m \u001b[0mtheano\u001b[0m\u001b[0;34m.\u001b[0m\u001b[0mtensor\u001b[0m\u001b[0;34m.\u001b[0m\u001b[0msignal\u001b[0m \u001b[0;32mimport\u001b[0m \u001b[0mdownsample\u001b[0m\u001b[0;34m\u001b[0m\u001b[0m\n\u001b[0m\u001b[1;32m      7\u001b[0m \u001b[0;34m\u001b[0m\u001b[0m\n\u001b[1;32m      8\u001b[0m \u001b[0;34m\u001b[0m\u001b[0m\n",
      "\u001b[0;31mImportError\u001b[0m: cannot import name downsample"
     ]
    }
   ],
   "source": [
    "from sknn.mlp import Regressor, Layer\n",
    "nn = Regressor(\n",
    "    layers=[\n",
    "        Layer(\"Rectifier\", units=100),\n",
    "        Layer(\"Linear\")],\n",
    "    learning_rate=0.02,\n",
    "    n_iter=10)\n",
    "nn.fit(X, y)"
   ]
  },
  {
   "cell_type": "markdown",
   "metadata": {},
   "source": [
    "### Test scikit-learn classifiers"
   ]
  },
  {
   "cell_type": "code",
   "execution_count": 22,
   "metadata": {},
   "outputs": [
    {
     "name": "stdout",
     "output_type": "stream",
     "text": [
      "Ran KNeighborsClassifier in 0.00s.\n",
      "\n",
      "    Overall Accuracy: 0.900\n",
      "    Mean Precision:   0.929 +/- 0.101\n",
      "    Mean Recall:      0.900 +/- 0.141\n",
      "    Mean F1 Score:    0.901 +/- 0.074\n",
      "    \n",
      "Ran MultinomialNB in 0.00s.\n",
      "\n",
      "    Overall Accuracy: 0.967\n",
      "    Mean Precision:   0.967 +/- 0.047\n",
      "    Mean Recall:      0.976 +/- 0.034\n",
      "    Mean F1 Score:    0.970 +/- 0.022\n",
      "    \n",
      "Ran MLPClassifier in 0.18s.\n",
      "\n",
      "    Overall Accuracy: 0.967\n",
      "    Mean Precision:   0.974 +/- 0.036\n",
      "    Mean Recall:      0.967 +/- 0.047\n",
      "    Mean F1 Score:    0.969 +/- 0.022\n",
      "    \n"
     ]
    }
   ],
   "source": [
    "from sklearn.linear_model import SGDClassifier\n",
    "from sklearn.linear_model import PassiveAggressiveClassifier\n",
    "from sklearn.linear_model import Perceptron\n",
    "from sklearn.linear_model import LogisticRegression\n",
    "from sklearn.tree import DecisionTreeClassifier\n",
    "from sklearn.ensemble import RandomForestClassifier\n",
    "from sklearn.naive_bayes import MultinomialNB\n",
    "from sklearn.neighbors import KNeighborsClassifier\n",
    "from sklearn.neural_network import MLPClassifier\n",
    "\n",
    "classifiers = [KNeighborsClassifier, MultinomialNB, MLPClassifier]\n",
    "\n",
    "               #[MultinomialNB, SGDClassifier, PassiveAggressiveClassifier, Perceptron, \n",
    "               #DecisionTreeClassifier, LogisticRegression, KNeighborsClassifier, RandomForestClassifier][::-1]\n",
    "kwargs = [None, None, None]#[None, None, None, None, None, None, None, None, {'n_estimators': 200}][::-1]\n",
    "cms = []\n",
    "\n",
    "for i, clf in enumerate(classifiers):\n",
    "    tic = time.time()\n",
    "    cm = cross_validate_classifier(\n",
    "                    clf, X, y, training_percentage=0.9, kfold=2, \n",
    "                    kwargs=kwargs[i])\n",
    "    toc = time.time() - tic\n",
    "    cms.append(cm)\n",
    "    print('Ran {}'.format(clf.__name__) + ' in {:.2f}s.'.format(toc))    \n",
    "    print(format_classifier_performance(np.mean(cm, axis=0)))"
   ]
  },
  {
   "cell_type": "markdown",
   "metadata": {},
   "source": [
    "## Load Cifar-10 data"
   ]
  },
  {
   "cell_type": "code",
   "execution_count": 3,
   "metadata": {},
   "outputs": [],
   "source": [
    "with open('../cifar-10/cifar-10-batches-py/data_batch_1') as batch:\n",
    "    batch_dict = pickle.load(batch)\n",
    "batch_dict.keys()\n",
    "data = batch_dict['data']\n",
    "labels = np.array(batch_dict['labels']).astype(np.int8)\n",
    "classes = ['Airplane', 'Automobile', 'Bird', 'Cat', 'Deer', 'Dog', 'Frog', 'Horse', 'Ship', 'Truck']"
   ]
  },
  {
   "cell_type": "code",
   "execution_count": 4,
   "metadata": {},
   "outputs": [
    {
     "data": {
      "image/png": "[encoded data removed]",
      "text/plain": [
       "<Figure size 1152x288 with 8 Axes>"
      ]
     },
     "metadata": {},
     "output_type": "display_data"
    }
   ],
   "source": [
    "num_plots = 8\n",
    "\n",
    "fig = plt.figure(figsize=(16, 4))\n",
    "gs = GridSpec(1, num_plots)\n",
    "for i in range(num_plots):\n",
    "    row = np.random.randint(low=0, high=10000)\n",
    "    ax = plt.subplot(gs[0, i])\n",
    "    img = data[row, :].reshape((3, 1024)).reshape((3, 32, 32)).T\n",
    "    ax.imshow(img[:, :, 2].T,\n",
    "             interpolation='gaussian', origin='upper', cmap=plt.cm.gray)\n",
    "    ax.set_title('{}'.format(classes[labels[row]]))\n",
    "    ax.axis('off')\n",
    "plt.show()"
   ]
  },
  {
   "cell_type": "code",
   "execution_count": null,
   "metadata": {},
   "outputs": [],
   "source": []
  },
  {
   "cell_type": "code",
   "execution_count": 18,
   "metadata": {
    "scrolled": true
   },
   "outputs": [
    {
     "name": "stdout",
     "output_type": "stream",
     "text": [
      "Ran MultinomialNB in 0.17s.\n",
      "\n",
      "    Overall Accuracy: 0.227\n",
      "    Mean Precision:   0.245 +/- 0.071\n",
      "    Mean Recall:      0.227 +/- 0.133\n",
      "    Mean F1 Score:    0.210 +/- 0.068\n",
      "    \n"
     ]
    },
    {
     "data": {
      "image/png": "[encoded data removed]",
      "text/plain": [
       "<Figure size 1080x540 with 1 Axes>"
      ]
     },
     "metadata": {},
     "output_type": "display_data"
    },
    {
     "name": "stdout",
     "output_type": "stream",
     "text": [
      "Iteration 1, loss = 9.40318629\n",
      "Iteration 2, loss = 2.30691974\n",
      "Iteration 3, loss = 2.30513702\n",
      "Iteration 4, loss = 2.30400176\n",
      "Iteration 5, loss = 2.30338179\n",
      "Iteration 6, loss = 2.30294649\n",
      "Iteration 7, loss = 2.30317680\n",
      "Iteration 8, loss = 2.30296509\n",
      "Iteration 9, loss = 2.30258889\n",
      "Iteration 10, loss = 2.30250495\n",
      "Iteration 11, loss = 2.30244877\n",
      "Iteration 12, loss = 2.30238520\n",
      "Training loss did not improve more than tol=0.000100 for two consecutive epochs. Stopping.\n",
      "Iteration 1, loss = 9.48035137\n",
      "Iteration 2, loss = 2.31285440\n",
      "Iteration 3, loss = 2.30733186\n",
      "Iteration 4, loss = 2.30579119\n",
      "Iteration 5, loss = 2.30510155\n",
      "Iteration 6, loss = 2.30478105\n",
      "Iteration 7, loss = 2.30470214\n",
      "Iteration 8, loss = 2.30475429\n",
      "Iteration 9, loss = 2.30477035\n",
      "Training loss did not improve more than tol=0.000100 for two consecutive epochs. Stopping.\n",
      "Ran MLPClassifier in 26.42s.\n",
      "\n",
      "    Overall Accuracy: 0.097\n",
      "    Mean Precision:   0.019 +/- 0.039\n",
      "    Mean Recall:      0.093 +/- 0.187\n",
      "    Mean F1 Score:    nan +/- nan\n",
      "    \n"
     ]
    },
    {
     "data": {
      "image/png": "[encoded data removed]",
      "text/plain": [
       "<Figure size 1080x540 with 1 Axes>"
      ]
     },
     "metadata": {},
     "output_type": "display_data"
    }
   ],
   "source": [
    "from sklearn.linear_model import SGDClassifier\n",
    "from sklearn.linear_model import PassiveAggressiveClassifier\n",
    "from sklearn.linear_model import Perceptron\n",
    "from sklearn.linear_model import LogisticRegression\n",
    "from sklearn.tree import DecisionTreeClassifier\n",
    "from sklearn.ensemble import RandomForestClassifier\n",
    "from sklearn.naive_bayes import MultinomialNB\n",
    "from sklearn.neighbors import KNeighborsClassifier\n",
    "from sklearn.neural_network import MLPClassifier\n",
    "from sklearn.decomposition import PCA\n",
    "\n",
    "classifiers = [MultinomialNB, MLPClassifier]\n",
    "\n",
    "               #[MultinomialNB, SGDClassifier, PassiveAggressiveClassifier, Perceptron, \n",
    "               #DecisionTreeClassifier, LogisticRegression, KNeighborsClassifier, RandomForestClassifier][::-1]\n",
    "kwargs = [None, {'hidden_layer_sizes': (500, ), \n",
    "                       'activation': 'relu', 'solver': 'adam', \n",
    "                       'alpha': 0.001, 'batch_size': 'auto', \n",
    "                       'learning_rate': 'adaptive', \n",
    "                       'learning_rate_init': 0.01, \n",
    "                       'power_t': 0.5, 'max_iter': 200, \n",
    "                       'shuffle': True, \n",
    "                       'random_state': None, \n",
    "                       'tol': 0.0001, 'verbose': True, \n",
    "                       'warm_start': False, 'momentum': 0.9, \n",
    "                       'nesterovs_momentum': True, 'early_stopping': False, \n",
    "                       'validation_fraction': 0.1, 'beta_1': 0.7, 'beta_2': 0.999, \n",
    "                       'epsilon': 1e-08}]\n",
    "cms = []\n",
    "\n",
    "#pca = PCA(n_components=500)\n",
    "training_data = data[:, :1024]\n",
    "\n",
    "for i, clf in enumerate(classifiers):\n",
    "    tic = time.time()\n",
    "    cm = cross_validate_classifier(\n",
    "                    clf, training_data, labels, training_percentage=0.9, kfold=2,\n",
    "                    kwargs=kwargs[i])\n",
    "    toc = time.time() - tic\n",
    "    cms.append(cm)\n",
    "    print('Ran {}'.format(clf.__name__) + ' in {:.2f}s.'.format(toc))    \n",
    "    print(format_classifier_performance(np.mean(cm, axis=0)))\n",
    "    plot_confusion_matrix([np.mean(cm, axis=0)])\n",
    "    plt.show()"
   ]
  },
  {
   "cell_type": "code",
   "execution_count": null,
   "metadata": {},
   "outputs": [],
   "source": []
  }
 ],
 "metadata": {
  "kernelspec": {
   "display_name": "Python 2",
   "language": "python",
   "name": "python2"
  },
  "language_info": {
   "codemirror_mode": {
    "name": "ipython",
    "version": 2
   },
   "file_extension": ".py",
   "mimetype": "text/x-python",
   "name": "python",
   "nbconvert_exporter": "python",
   "pygments_lexer": "ipython2",
   "version": "2.7.12"
  }
 },
 "nbformat": 4,
 "nbformat_minor": 2
}
